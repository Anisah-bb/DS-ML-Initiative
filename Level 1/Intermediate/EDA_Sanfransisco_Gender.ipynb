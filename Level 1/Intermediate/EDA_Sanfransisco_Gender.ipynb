{
 "cells": [
  {
   "cell_type": "code",
   "execution_count": 1,
   "metadata": {},
   "outputs": [],
   "source": [
    "import numpy as np\n",
    "import pandas as pd\n",
    "import matplotlib as plt \n",
    "import seaborn as sns "
   ]
  },
  {
   "cell_type": "code",
   "execution_count": 3,
   "metadata": {},
   "outputs": [],
   "source": [
    "df = pd.read_csv( r'C:\\Users\\User\\Desktop\\WomenRepresentaionInCityProperty-SanFrancisco.csv')"
   ]
  },
  {
   "cell_type": "code",
   "execution_count": 4,
   "metadata": {},
   "outputs": [
    {
     "data": {
      "text/plain": [
       "(82, 11)"
      ]
     },
     "execution_count": 4,
     "metadata": {},
     "output_type": "execute_result"
    }
   ],
   "source": [
    "df.shape"
   ]
  },
  {
   "cell_type": "code",
   "execution_count": 5,
   "metadata": {},
   "outputs": [
    {
     "data": {
      "text/html": [
       "<div>\n",
       "<style scoped>\n",
       "    .dataframe tbody tr th:only-of-type {\n",
       "        vertical-align: middle;\n",
       "    }\n",
       "\n",
       "    .dataframe tbody tr th {\n",
       "        vertical-align: top;\n",
       "    }\n",
       "\n",
       "    .dataframe thead th {\n",
       "        text-align: right;\n",
       "    }\n",
       "</style>\n",
       "<table border=\"1\" class=\"dataframe\">\n",
       "  <thead>\n",
       "    <tr style=\"text-align: right;\">\n",
       "      <th></th>\n",
       "      <th>Department/Source</th>\n",
       "      <th>Name</th>\n",
       "      <th>Person</th>\n",
       "      <th>Gender</th>\n",
       "      <th>Reference</th>\n",
       "      <th>Comments</th>\n",
       "      <th>Current Police Districts</th>\n",
       "      <th>Current Supervisor Districts</th>\n",
       "      <th>Analysis Neighborhoods</th>\n",
       "      <th>Neighborhoods</th>\n",
       "      <th>SF Find Neighborhoods</th>\n",
       "    </tr>\n",
       "  </thead>\n",
       "  <tbody>\n",
       "    <tr>\n",
       "      <th>0</th>\n",
       "      <td>Administrator</td>\n",
       "      <td>MOSCONE CENTER (South)</td>\n",
       "      <td>George R. Moscone</td>\n",
       "      <td>M</td>\n",
       "      <td>City Administrator</td>\n",
       "      <td>NaN</td>\n",
       "      <td>4</td>\n",
       "      <td>10</td>\n",
       "      <td>36</td>\n",
       "      <td>21</td>\n",
       "      <td>21</td>\n",
       "    </tr>\n",
       "    <tr>\n",
       "      <th>1</th>\n",
       "      <td>Administrator</td>\n",
       "      <td>Maxine Hall Health Center</td>\n",
       "      <td>NaN</td>\n",
       "      <td>F</td>\n",
       "      <td>Public Health</td>\n",
       "      <td>NaN</td>\n",
       "      <td>4</td>\n",
       "      <td>10</td>\n",
       "      <td>36</td>\n",
       "      <td>21</td>\n",
       "      <td>21</td>\n",
       "    </tr>\n",
       "    <tr>\n",
       "      <th>2</th>\n",
       "      <td>REC AND PARKS</td>\n",
       "      <td>Moscone Recreation Center</td>\n",
       "      <td>George R. Moscone</td>\n",
       "      <td>M</td>\n",
       "      <td>NaN</td>\n",
       "      <td>park</td>\n",
       "      <td>4</td>\n",
       "      <td>10</td>\n",
       "      <td>36</td>\n",
       "      <td>21</td>\n",
       "      <td>21</td>\n",
       "    </tr>\n",
       "    <tr>\n",
       "      <th>3</th>\n",
       "      <td>REC AND PARKS</td>\n",
       "      <td>Helen Crocker Russell Library of Horticulture,...</td>\n",
       "      <td>Helen Crocker</td>\n",
       "      <td>F</td>\n",
       "      <td>NaN</td>\n",
       "      <td>facilities and other amenities</td>\n",
       "      <td>4</td>\n",
       "      <td>10</td>\n",
       "      <td>36</td>\n",
       "      <td>21</td>\n",
       "      <td>21</td>\n",
       "    </tr>\n",
       "    <tr>\n",
       "      <th>4</th>\n",
       "      <td>REC AND PARKS</td>\n",
       "      <td>Sharon Building,  Golden Gate Park</td>\n",
       "      <td>Sharon Building</td>\n",
       "      <td>M</td>\n",
       "      <td>NaN</td>\n",
       "      <td>facilities and other amenities</td>\n",
       "      <td>4</td>\n",
       "      <td>10</td>\n",
       "      <td>36</td>\n",
       "      <td>21</td>\n",
       "      <td>21</td>\n",
       "    </tr>\n",
       "  </tbody>\n",
       "</table>\n",
       "</div>"
      ],
      "text/plain": [
       "  Department/Source                                               Name  \\\n",
       "0     Administrator                             MOSCONE CENTER (South)   \n",
       "1     Administrator                          Maxine Hall Health Center   \n",
       "2     REC AND PARKS                          Moscone Recreation Center   \n",
       "3     REC AND PARKS  Helen Crocker Russell Library of Horticulture,...   \n",
       "4     REC AND PARKS                 Sharon Building,  Golden Gate Park   \n",
       "\n",
       "              Person Gender           Reference  \\\n",
       "0  George R. Moscone      M  City Administrator   \n",
       "1                NaN      F       Public Health   \n",
       "2  George R. Moscone      M                 NaN   \n",
       "3      Helen Crocker      F                 NaN   \n",
       "4    Sharon Building      M                 NaN   \n",
       "\n",
       "                         Comments  Current Police Districts  \\\n",
       "0                             NaN                         4   \n",
       "1                             NaN                         4   \n",
       "2                            park                         4   \n",
       "3  facilities and other amenities                         4   \n",
       "4  facilities and other amenities                         4   \n",
       "\n",
       "   Current Supervisor Districts  Analysis Neighborhoods  Neighborhoods  \\\n",
       "0                            10                      36             21   \n",
       "1                            10                      36             21   \n",
       "2                            10                      36             21   \n",
       "3                            10                      36             21   \n",
       "4                            10                      36             21   \n",
       "\n",
       "   SF Find Neighborhoods  \n",
       "0                     21  \n",
       "1                     21  \n",
       "2                     21  \n",
       "3                     21  \n",
       "4                     21  "
      ]
     },
     "execution_count": 5,
     "metadata": {},
     "output_type": "execute_result"
    }
   ],
   "source": [
    "df.head()"
   ]
  },
  {
   "cell_type": "code",
   "execution_count": 6,
   "metadata": {},
   "outputs": [
    {
     "data": {
      "text/html": [
       "<div>\n",
       "<style scoped>\n",
       "    .dataframe tbody tr th:only-of-type {\n",
       "        vertical-align: middle;\n",
       "    }\n",
       "\n",
       "    .dataframe tbody tr th {\n",
       "        vertical-align: top;\n",
       "    }\n",
       "\n",
       "    .dataframe thead th {\n",
       "        text-align: right;\n",
       "    }\n",
       "</style>\n",
       "<table border=\"1\" class=\"dataframe\">\n",
       "  <thead>\n",
       "    <tr style=\"text-align: right;\">\n",
       "      <th></th>\n",
       "      <th>Department/Source</th>\n",
       "      <th>Name</th>\n",
       "      <th>Person</th>\n",
       "      <th>Gender</th>\n",
       "      <th>Reference</th>\n",
       "      <th>Comments</th>\n",
       "      <th>Current Police Districts</th>\n",
       "      <th>Current Supervisor Districts</th>\n",
       "      <th>Analysis Neighborhoods</th>\n",
       "      <th>Neighborhoods</th>\n",
       "      <th>SF Find Neighborhoods</th>\n",
       "    </tr>\n",
       "  </thead>\n",
       "  <tbody>\n",
       "    <tr>\n",
       "      <th>77</th>\n",
       "      <td>Administrator</td>\n",
       "      <td>MOSCONE CENTER Parking Garage</td>\n",
       "      <td>George R. Moscone</td>\n",
       "      <td>M</td>\n",
       "      <td>Municipal Transportation Agency</td>\n",
       "      <td>NaN</td>\n",
       "      <td>4</td>\n",
       "      <td>10</td>\n",
       "      <td>36</td>\n",
       "      <td>21</td>\n",
       "      <td>21</td>\n",
       "    </tr>\n",
       "    <tr>\n",
       "      <th>78</th>\n",
       "      <td>RED</td>\n",
       "      <td>City Hall, 2nd Floor, Buck Delventhal Rotunda</td>\n",
       "      <td>Buck Delventhal</td>\n",
       "      <td>M</td>\n",
       "      <td>Longtime Deputy City Attorney</td>\n",
       "      <td>NaN</td>\n",
       "      <td>4</td>\n",
       "      <td>10</td>\n",
       "      <td>36</td>\n",
       "      <td>21</td>\n",
       "      <td>21</td>\n",
       "    </tr>\n",
       "    <tr>\n",
       "      <th>79</th>\n",
       "      <td>PUC</td>\n",
       "      <td>Alex Pitcher Community Room</td>\n",
       "      <td>Alex Pitcher, Jr.</td>\n",
       "      <td>M</td>\n",
       "      <td>NaN</td>\n",
       "      <td>Civil Rights Attorney</td>\n",
       "      <td>4</td>\n",
       "      <td>10</td>\n",
       "      <td>36</td>\n",
       "      <td>21</td>\n",
       "      <td>21</td>\n",
       "    </tr>\n",
       "    <tr>\n",
       "      <th>80</th>\n",
       "      <td>Administrator</td>\n",
       "      <td>Curtis E. Green LRV Facility Annex Bldg</td>\n",
       "      <td>Curtis E. Green</td>\n",
       "      <td>M</td>\n",
       "      <td>Municipal Transportation Agency</td>\n",
       "      <td>NaN</td>\n",
       "      <td>4</td>\n",
       "      <td>10</td>\n",
       "      <td>36</td>\n",
       "      <td>21</td>\n",
       "      <td>21</td>\n",
       "    </tr>\n",
       "    <tr>\n",
       "      <th>81</th>\n",
       "      <td>Administrator</td>\n",
       "      <td>Bill Graham Civic Auditorium</td>\n",
       "      <td>Bill Graham</td>\n",
       "      <td>M</td>\n",
       "      <td>City Administrator</td>\n",
       "      <td>NaN</td>\n",
       "      <td>4</td>\n",
       "      <td>10</td>\n",
       "      <td>36</td>\n",
       "      <td>21</td>\n",
       "      <td>21</td>\n",
       "    </tr>\n",
       "  </tbody>\n",
       "</table>\n",
       "</div>"
      ],
      "text/plain": [
       "   Department/Source                                           Name  \\\n",
       "77     Administrator                  MOSCONE CENTER Parking Garage   \n",
       "78               RED  City Hall, 2nd Floor, Buck Delventhal Rotunda   \n",
       "79               PUC                    Alex Pitcher Community Room   \n",
       "80     Administrator        Curtis E. Green LRV Facility Annex Bldg   \n",
       "81     Administrator                   Bill Graham Civic Auditorium   \n",
       "\n",
       "               Person Gender                        Reference  \\\n",
       "77  George R. Moscone      M  Municipal Transportation Agency   \n",
       "78    Buck Delventhal      M    Longtime Deputy City Attorney   \n",
       "79  Alex Pitcher, Jr.      M                              NaN   \n",
       "80    Curtis E. Green      M  Municipal Transportation Agency   \n",
       "81        Bill Graham      M               City Administrator   \n",
       "\n",
       "                 Comments  Current Police Districts  \\\n",
       "77                    NaN                         4   \n",
       "78                    NaN                         4   \n",
       "79  Civil Rights Attorney                         4   \n",
       "80                    NaN                         4   \n",
       "81                    NaN                         4   \n",
       "\n",
       "    Current Supervisor Districts  Analysis Neighborhoods  Neighborhoods  \\\n",
       "77                            10                      36             21   \n",
       "78                            10                      36             21   \n",
       "79                            10                      36             21   \n",
       "80                            10                      36             21   \n",
       "81                            10                      36             21   \n",
       "\n",
       "    SF Find Neighborhoods  \n",
       "77                     21  \n",
       "78                     21  \n",
       "79                     21  \n",
       "80                     21  \n",
       "81                     21  "
      ]
     },
     "execution_count": 6,
     "metadata": {},
     "output_type": "execute_result"
    }
   ],
   "source": [
    "df.tail()"
   ]
  },
  {
   "cell_type": "code",
   "execution_count": 7,
   "metadata": {},
   "outputs": [
    {
     "data": {
      "text/html": [
       "<div>\n",
       "<style scoped>\n",
       "    .dataframe tbody tr th:only-of-type {\n",
       "        vertical-align: middle;\n",
       "    }\n",
       "\n",
       "    .dataframe tbody tr th {\n",
       "        vertical-align: top;\n",
       "    }\n",
       "\n",
       "    .dataframe thead th {\n",
       "        text-align: right;\n",
       "    }\n",
       "</style>\n",
       "<table border=\"1\" class=\"dataframe\">\n",
       "  <thead>\n",
       "    <tr style=\"text-align: right;\">\n",
       "      <th></th>\n",
       "      <th>Current Police Districts</th>\n",
       "      <th>Current Supervisor Districts</th>\n",
       "      <th>Analysis Neighborhoods</th>\n",
       "      <th>Neighborhoods</th>\n",
       "      <th>SF Find Neighborhoods</th>\n",
       "    </tr>\n",
       "  </thead>\n",
       "  <tbody>\n",
       "    <tr>\n",
       "      <th>count</th>\n",
       "      <td>82.0</td>\n",
       "      <td>82.0</td>\n",
       "      <td>82.0</td>\n",
       "      <td>82.0</td>\n",
       "      <td>82.0</td>\n",
       "    </tr>\n",
       "    <tr>\n",
       "      <th>mean</th>\n",
       "      <td>4.0</td>\n",
       "      <td>10.0</td>\n",
       "      <td>36.0</td>\n",
       "      <td>21.0</td>\n",
       "      <td>21.0</td>\n",
       "    </tr>\n",
       "    <tr>\n",
       "      <th>std</th>\n",
       "      <td>0.0</td>\n",
       "      <td>0.0</td>\n",
       "      <td>0.0</td>\n",
       "      <td>0.0</td>\n",
       "      <td>0.0</td>\n",
       "    </tr>\n",
       "    <tr>\n",
       "      <th>min</th>\n",
       "      <td>4.0</td>\n",
       "      <td>10.0</td>\n",
       "      <td>36.0</td>\n",
       "      <td>21.0</td>\n",
       "      <td>21.0</td>\n",
       "    </tr>\n",
       "    <tr>\n",
       "      <th>25%</th>\n",
       "      <td>4.0</td>\n",
       "      <td>10.0</td>\n",
       "      <td>36.0</td>\n",
       "      <td>21.0</td>\n",
       "      <td>21.0</td>\n",
       "    </tr>\n",
       "    <tr>\n",
       "      <th>50%</th>\n",
       "      <td>4.0</td>\n",
       "      <td>10.0</td>\n",
       "      <td>36.0</td>\n",
       "      <td>21.0</td>\n",
       "      <td>21.0</td>\n",
       "    </tr>\n",
       "    <tr>\n",
       "      <th>75%</th>\n",
       "      <td>4.0</td>\n",
       "      <td>10.0</td>\n",
       "      <td>36.0</td>\n",
       "      <td>21.0</td>\n",
       "      <td>21.0</td>\n",
       "    </tr>\n",
       "    <tr>\n",
       "      <th>max</th>\n",
       "      <td>4.0</td>\n",
       "      <td>10.0</td>\n",
       "      <td>36.0</td>\n",
       "      <td>21.0</td>\n",
       "      <td>21.0</td>\n",
       "    </tr>\n",
       "  </tbody>\n",
       "</table>\n",
       "</div>"
      ],
      "text/plain": [
       "       Current Police Districts  Current Supervisor Districts  \\\n",
       "count                      82.0                          82.0   \n",
       "mean                        4.0                          10.0   \n",
       "std                         0.0                           0.0   \n",
       "min                         4.0                          10.0   \n",
       "25%                         4.0                          10.0   \n",
       "50%                         4.0                          10.0   \n",
       "75%                         4.0                          10.0   \n",
       "max                         4.0                          10.0   \n",
       "\n",
       "       Analysis Neighborhoods  Neighborhoods  SF Find Neighborhoods  \n",
       "count                    82.0           82.0                   82.0  \n",
       "mean                     36.0           21.0                   21.0  \n",
       "std                       0.0            0.0                    0.0  \n",
       "min                      36.0           21.0                   21.0  \n",
       "25%                      36.0           21.0                   21.0  \n",
       "50%                      36.0           21.0                   21.0  \n",
       "75%                      36.0           21.0                   21.0  \n",
       "max                      36.0           21.0                   21.0  "
      ]
     },
     "execution_count": 7,
     "metadata": {},
     "output_type": "execute_result"
    }
   ],
   "source": [
    "df.describe()"
   ]
  },
  {
   "cell_type": "code",
   "execution_count": 8,
   "metadata": {},
   "outputs": [
    {
     "data": {
      "text/plain": [
       "Department/Source                0\n",
       "Name                             0\n",
       "Person                           1\n",
       "Gender                           0\n",
       "Reference                       28\n",
       "Comments                        50\n",
       "Current Police Districts         0\n",
       "Current Supervisor Districts     0\n",
       "Analysis Neighborhoods           0\n",
       "Neighborhoods                    0\n",
       "SF Find Neighborhoods            0\n",
       "dtype: int64"
      ]
     },
     "execution_count": 8,
     "metadata": {},
     "output_type": "execute_result"
    }
   ],
   "source": [
    "df.isnull().sum()"
   ]
  },
  {
   "cell_type": "code",
   "execution_count": 9,
   "metadata": {},
   "outputs": [
    {
     "data": {
      "text/plain": [
       "1"
      ]
     },
     "execution_count": 9,
     "metadata": {},
     "output_type": "execute_result"
    }
   ],
   "source": [
    "df['Person'].isnull().sum()"
   ]
  },
  {
   "cell_type": "code",
   "execution_count": 10,
   "metadata": {},
   "outputs": [
    {
     "data": {
      "text/plain": [
       "Department/Source               object\n",
       "Name                            object\n",
       "Person                          object\n",
       "Gender                          object\n",
       "Reference                       object\n",
       "Comments                        object\n",
       "Current Police Districts         int64\n",
       "Current Supervisor Districts     int64\n",
       "Analysis Neighborhoods           int64\n",
       "Neighborhoods                    int64\n",
       "SF Find Neighborhoods            int64\n",
       "dtype: object"
      ]
     },
     "execution_count": 10,
     "metadata": {},
     "output_type": "execute_result"
    }
   ],
   "source": [
    "df.dtypes"
   ]
  },
  {
   "cell_type": "code",
   "execution_count": 11,
   "metadata": {},
   "outputs": [
    {
     "data": {
      "text/plain": [
       "M        53\n",
       "F        19\n",
       "F & M     8\n",
       "M & F     1\n",
       "M & M     1\n",
       "Name: Gender, dtype: int64"
      ]
     },
     "execution_count": 11,
     "metadata": {},
     "output_type": "execute_result"
    }
   ],
   "source": [
    "df['Gender'].value_counts()"
   ]
  },
  {
   "cell_type": "code",
   "execution_count": 12,
   "metadata": {},
   "outputs": [
    {
     "data": {
      "text/plain": [
       "M        64.634146\n",
       "F        23.170732\n",
       "F & M     9.756098\n",
       "M & F     1.219512\n",
       "M & M     1.219512\n",
       "Name: Gender, dtype: float64"
      ]
     },
     "execution_count": 12,
     "metadata": {},
     "output_type": "execute_result"
    }
   ],
   "source": [
    "Pcntg = df['Gender'].value_counts(normalize = True)*100\n",
    "Pcntg"
   ]
  },
  {
   "cell_type": "code",
   "execution_count": 13,
   "metadata": {},
   "outputs": [
    {
     "data": {
      "text/html": [
       "<div>\n",
       "<style scoped>\n",
       "    .dataframe tbody tr th:only-of-type {\n",
       "        vertical-align: middle;\n",
       "    }\n",
       "\n",
       "    .dataframe tbody tr th {\n",
       "        vertical-align: top;\n",
       "    }\n",
       "\n",
       "    .dataframe thead th {\n",
       "        text-align: right;\n",
       "    }\n",
       "</style>\n",
       "<table border=\"1\" class=\"dataframe\">\n",
       "  <thead>\n",
       "    <tr style=\"text-align: right;\">\n",
       "      <th></th>\n",
       "      <th>Percentage</th>\n",
       "    </tr>\n",
       "    <tr>\n",
       "      <th>gender</th>\n",
       "      <th></th>\n",
       "    </tr>\n",
       "  </thead>\n",
       "  <tbody>\n",
       "    <tr>\n",
       "      <th>M</th>\n",
       "      <td>64.634146</td>\n",
       "    </tr>\n",
       "    <tr>\n",
       "      <th>F</th>\n",
       "      <td>23.170732</td>\n",
       "    </tr>\n",
       "    <tr>\n",
       "      <th>F &amp; M</th>\n",
       "      <td>9.756098</td>\n",
       "    </tr>\n",
       "    <tr>\n",
       "      <th>M &amp; F</th>\n",
       "      <td>1.219512</td>\n",
       "    </tr>\n",
       "    <tr>\n",
       "      <th>M &amp; M</th>\n",
       "      <td>1.219512</td>\n",
       "    </tr>\n",
       "  </tbody>\n",
       "</table>\n",
       "</div>"
      ],
      "text/plain": [
       "        Percentage\n",
       "gender            \n",
       "M        64.634146\n",
       "F        23.170732\n",
       "F & M     9.756098\n",
       "M & F     1.219512\n",
       "M & M     1.219512"
      ]
     },
     "execution_count": 13,
     "metadata": {},
     "output_type": "execute_result"
    }
   ],
   "source": [
    "df2 = pd.DataFrame(Pcntg)\n",
    "df2 = df2.rename_axis('gender')\n",
    "df2= df2.rename(columns={'Gender': 'Percentage'})\n",
    "df2"
   ]
  },
  {
   "cell_type": "code",
   "execution_count": 14,
   "metadata": {},
   "outputs": [
    {
     "data": {
      "text/plain": [
       "<seaborn.axisgrid.FacetGrid at 0x1b487937f48>"
      ]
     },
     "execution_count": 14,
     "metadata": {},
     "output_type": "execute_result"
    },
    {
     "data": {
      "image/png": "[encoded data removed]",
      "text/plain": [
       "<Figure size 360x360 with 1 Axes>"
      ]
     },
     "metadata": {
      "needs_background": "light"
     },
     "output_type": "display_data"
    }
   ],
   "source": [
    "sns.catplot(x=\"Gender\", kind=\"count\", palette=\"ch:.25\", data=df)"
   ]
  },
  {
   "cell_type": "code",
   "execution_count": null,
   "metadata": {},
   "outputs": [],
   "source": []
  }
 ],
 "metadata": {
  "kernelspec": {
   "display_name": "Python 3",
   "language": "python",
   "name": "python3"
  },
  "language_info": {
   "codemirror_mode": {
    "name": "ipython",
    "version": 3
   },
   "file_extension": ".py",
   "mimetype": "text/x-python",
   "name": "python",
   "nbconvert_exporter": "python",
   "pygments_lexer": "ipython3",
   "version": "3.7.6"
  }
 },
 "nbformat": 4,
 "nbformat_minor": 4
}
