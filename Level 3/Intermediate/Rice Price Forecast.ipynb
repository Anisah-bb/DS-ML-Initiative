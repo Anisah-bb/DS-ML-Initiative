{
 "cells": [
  {
   "cell_type": "code",
   "execution_count": null,
   "metadata": {},
   "outputs": [],
   "source": [
    "# This notebook is aimed at forecating the price of local rice whole sale price"
   ]
  },
  {
   "cell_type": "code",
   "execution_count": 1,
   "metadata": {},
   "outputs": [],
   "source": [
    "# Starting by importing required libraries\n",
    "import warnings\n",
    "import itertools\n",
    "import numpy as np\n",
    "import matplotlib.pyplot as plt\n",
    "warnings.filterwarnings('ignore')\n",
    "plt.style.use('fivethirtyeight')\n",
    "import pandas as pd\n",
    "%matplotlib inline\n",
    "import seaborn as sns \n",
    "import statsmodels.api as sm"
   ]
  },
  {
   "cell_type": "code",
   "execution_count": 2,
   "metadata": {},
   "outputs": [],
   "source": [
    "# Then loading the document and reading as a data frame\n",
    "# the document has already been filtered in excel to get only rows containing data on local rice wholesale\n",
    "df = pd.read_csv(r'C:\\Users\\User\\Desktop\\Local Rice Wholesale.csv', parse_dates=['date'])"
   ]
  },
  {
   "cell_type": "code",
   "execution_count": 3,
   "metadata": {},
   "outputs": [
    {
     "data": {
      "text/html": [
       "<div>\n",
       "<style scoped>\n",
       "    .dataframe tbody tr th:only-of-type {\n",
       "        vertical-align: middle;\n",
       "    }\n",
       "\n",
       "    .dataframe tbody tr th {\n",
       "        vertical-align: top;\n",
       "    }\n",
       "\n",
       "    .dataframe thead th {\n",
       "        text-align: right;\n",
       "    }\n",
       "</style>\n",
       "<table border=\"1\" class=\"dataframe\">\n",
       "  <thead>\n",
       "    <tr style=\"text-align: right;\">\n",
       "      <th></th>\n",
       "      <th>date</th>\n",
       "      <th>cmname</th>\n",
       "      <th>unit</th>\n",
       "      <th>category</th>\n",
       "      <th>price</th>\n",
       "      <th>currency</th>\n",
       "      <th>country</th>\n",
       "      <th>admname</th>\n",
       "      <th>adm1id</th>\n",
       "      <th>mktname</th>\n",
       "      <th>...</th>\n",
       "      <th>umid</th>\n",
       "      <th>catid</th>\n",
       "      <th>sn</th>\n",
       "      <th>default</th>\n",
       "      <th>year</th>\n",
       "      <th>label</th>\n",
       "      <th>cmnameshort</th>\n",
       "      <th>scaling</th>\n",
       "      <th>interpolated</th>\n",
       "      <th>x</th>\n",
       "    </tr>\n",
       "  </thead>\n",
       "  <tbody>\n",
       "    <tr>\n",
       "      <th>0</th>\n",
       "      <td>2015-01-15</td>\n",
       "      <td>Rice (local) - Wholesale</td>\n",
       "      <td>1/100 100 KG</td>\n",
       "      <td>cereals and tubers</td>\n",
       "      <td>135.75</td>\n",
       "      <td>NGN</td>\n",
       "      <td>Nigeria</td>\n",
       "      <td>Kebbi</td>\n",
       "      <td>2227.0</td>\n",
       "      <td>Gwandu</td>\n",
       "      <td>...</td>\n",
       "      <td>9.0</td>\n",
       "      <td>1</td>\n",
       "      <td>1974_71_14_9</td>\n",
       "      <td>NaN</td>\n",
       "      <td>2015.0</td>\n",
       "      <td>Rice (local) - Wholesale (1/100 100 KG)</td>\n",
       "      <td>Rice loc. Whs.</td>\n",
       "      <td>0.01</td>\n",
       "      <td>0</td>\n",
       "      <td>1.421280e+09</td>\n",
       "    </tr>\n",
       "    <tr>\n",
       "      <th>1</th>\n",
       "      <td>2015-02-15</td>\n",
       "      <td>Rice (local) - Wholesale</td>\n",
       "      <td>1/100 100 KG</td>\n",
       "      <td>cereals and tubers</td>\n",
       "      <td>140.00</td>\n",
       "      <td>NGN</td>\n",
       "      <td>Nigeria</td>\n",
       "      <td>Jigawa</td>\n",
       "      <td>2223.0</td>\n",
       "      <td>Gujungu</td>\n",
       "      <td>...</td>\n",
       "      <td>9.0</td>\n",
       "      <td>1</td>\n",
       "      <td>1973_71_14_9</td>\n",
       "      <td>NaN</td>\n",
       "      <td>2015.0</td>\n",
       "      <td>Rice (local) - Wholesale (1/100 100 KG)</td>\n",
       "      <td>Rice loc. Whs.</td>\n",
       "      <td>0.01</td>\n",
       "      <td>0</td>\n",
       "      <td>1.423958e+09</td>\n",
       "    </tr>\n",
       "    <tr>\n",
       "      <th>2</th>\n",
       "      <td>2015-03-15</td>\n",
       "      <td>Rice (local) - Wholesale</td>\n",
       "      <td>1/100 100 KG</td>\n",
       "      <td>cereals and tubers</td>\n",
       "      <td>140.00</td>\n",
       "      <td>NGN</td>\n",
       "      <td>Nigeria</td>\n",
       "      <td>Jigawa</td>\n",
       "      <td>2223.0</td>\n",
       "      <td>Gujungu</td>\n",
       "      <td>...</td>\n",
       "      <td>9.0</td>\n",
       "      <td>1</td>\n",
       "      <td>1973_71_14_9</td>\n",
       "      <td>NaN</td>\n",
       "      <td>2015.0</td>\n",
       "      <td>Rice (local) - Wholesale (1/100 100 KG)</td>\n",
       "      <td>Rice loc. Whs.</td>\n",
       "      <td>0.01</td>\n",
       "      <td>0</td>\n",
       "      <td>1.426378e+09</td>\n",
       "    </tr>\n",
       "    <tr>\n",
       "      <th>3</th>\n",
       "      <td>2015-04-15</td>\n",
       "      <td>Rice (local) - Wholesale</td>\n",
       "      <td>1/100 100 KG</td>\n",
       "      <td>cereals and tubers</td>\n",
       "      <td>145.75</td>\n",
       "      <td>NGN</td>\n",
       "      <td>Nigeria</td>\n",
       "      <td>Kebbi</td>\n",
       "      <td>2227.0</td>\n",
       "      <td>Gwandu</td>\n",
       "      <td>...</td>\n",
       "      <td>9.0</td>\n",
       "      <td>1</td>\n",
       "      <td>1974_71_14_9</td>\n",
       "      <td>NaN</td>\n",
       "      <td>2015.0</td>\n",
       "      <td>Rice (local) - Wholesale (1/100 100 KG)</td>\n",
       "      <td>Rice loc. Whs.</td>\n",
       "      <td>0.01</td>\n",
       "      <td>0</td>\n",
       "      <td>1.429056e+09</td>\n",
       "    </tr>\n",
       "    <tr>\n",
       "      <th>4</th>\n",
       "      <td>2015-05-15</td>\n",
       "      <td>Rice (local) - Wholesale</td>\n",
       "      <td>1/100 100 KG</td>\n",
       "      <td>cereals and tubers</td>\n",
       "      <td>146.30</td>\n",
       "      <td>NGN</td>\n",
       "      <td>Nigeria</td>\n",
       "      <td>Jigawa</td>\n",
       "      <td>2223.0</td>\n",
       "      <td>Gujungu</td>\n",
       "      <td>...</td>\n",
       "      <td>9.0</td>\n",
       "      <td>1</td>\n",
       "      <td>1973_71_14_9</td>\n",
       "      <td>NaN</td>\n",
       "      <td>2015.0</td>\n",
       "      <td>Rice (local) - Wholesale (1/100 100 KG)</td>\n",
       "      <td>Rice loc. Whs.</td>\n",
       "      <td>0.01</td>\n",
       "      <td>0</td>\n",
       "      <td>1.431648e+09</td>\n",
       "    </tr>\n",
       "  </tbody>\n",
       "</table>\n",
       "<p>5 rows × 23 columns</p>\n",
       "</div>"
      ],
      "text/plain": [
       "        date                    cmname          unit            category  \\\n",
       "0 2015-01-15  Rice (local) - Wholesale  1/100 100 KG  cereals and tubers   \n",
       "1 2015-02-15  Rice (local) - Wholesale  1/100 100 KG  cereals and tubers   \n",
       "2 2015-03-15  Rice (local) - Wholesale  1/100 100 KG  cereals and tubers   \n",
       "3 2015-04-15  Rice (local) - Wholesale  1/100 100 KG  cereals and tubers   \n",
       "4 2015-05-15  Rice (local) - Wholesale  1/100 100 KG  cereals and tubers   \n",
       "\n",
       "    price currency  country admname  adm1id  mktname  ...  umid  catid  \\\n",
       "0  135.75      NGN  Nigeria   Kebbi  2227.0   Gwandu  ...   9.0      1   \n",
       "1  140.00      NGN  Nigeria  Jigawa  2223.0  Gujungu  ...   9.0      1   \n",
       "2  140.00      NGN  Nigeria  Jigawa  2223.0  Gujungu  ...   9.0      1   \n",
       "3  145.75      NGN  Nigeria   Kebbi  2227.0   Gwandu  ...   9.0      1   \n",
       "4  146.30      NGN  Nigeria  Jigawa  2223.0  Gujungu  ...   9.0      1   \n",
       "\n",
       "             sn  default    year                                    label  \\\n",
       "0  1974_71_14_9      NaN  2015.0  Rice (local) - Wholesale (1/100 100 KG)   \n",
       "1  1973_71_14_9      NaN  2015.0  Rice (local) - Wholesale (1/100 100 KG)   \n",
       "2  1973_71_14_9      NaN  2015.0  Rice (local) - Wholesale (1/100 100 KG)   \n",
       "3  1974_71_14_9      NaN  2015.0  Rice (local) - Wholesale (1/100 100 KG)   \n",
       "4  1973_71_14_9      NaN  2015.0  Rice (local) - Wholesale (1/100 100 KG)   \n",
       "\n",
       "      cmnameshort  scaling interpolated             x  \n",
       "0  Rice loc. Whs.     0.01            0  1.421280e+09  \n",
       "1  Rice loc. Whs.     0.01            0  1.423958e+09  \n",
       "2  Rice loc. Whs.     0.01            0  1.426378e+09  \n",
       "3  Rice loc. Whs.     0.01            0  1.429056e+09  \n",
       "4  Rice loc. Whs.     0.01            0  1.431648e+09  \n",
       "\n",
       "[5 rows x 23 columns]"
      ]
     },
     "execution_count": 3,
     "metadata": {},
     "output_type": "execute_result"
    }
   ],
   "source": [
    "# Checking the overview of the loaded data set\n",
    "df.head()"
   ]
  },
  {
   "cell_type": "code",
   "execution_count": 4,
   "metadata": {},
   "outputs": [
    {
     "data": {
      "text/plain": [
       "date            datetime64[ns]\n",
       "cmname                  object\n",
       "unit                    object\n",
       "category                object\n",
       "price                  float64\n",
       "currency                object\n",
       "country                 object\n",
       "admname                 object\n",
       "adm1id                 float64\n",
       "mktname                 object\n",
       "mktid                  float64\n",
       "cmid                     int64\n",
       "ptid                   float64\n",
       "umid                   float64\n",
       "catid                    int64\n",
       "sn                      object\n",
       "default                float64\n",
       "year                   float64\n",
       "label                   object\n",
       "cmnameshort             object\n",
       "scaling                float64\n",
       "interpolated             int64\n",
       "x                      float64\n",
       "dtype: object"
      ]
     },
     "execution_count": 4,
     "metadata": {},
     "output_type": "execute_result"
    }
   ],
   "source": [
    "# checking for data types\n",
    "df.dtypes"
   ]
  },
  {
   "cell_type": "code",
   "execution_count": 5,
   "metadata": {},
   "outputs": [
    {
     "data": {
      "text/plain": [
       "date             0\n",
       "cmname           0\n",
       "unit             0\n",
       "category         0\n",
       "price            0\n",
       "currency         2\n",
       "country          2\n",
       "admname          2\n",
       "adm1id           2\n",
       "mktname          2\n",
       "mktid            2\n",
       "cmid             0\n",
       "ptid             2\n",
       "umid             2\n",
       "catid            0\n",
       "sn               2\n",
       "default         72\n",
       "year             2\n",
       "label            0\n",
       "cmnameshort      0\n",
       "scaling          0\n",
       "interpolated     0\n",
       "x                2\n",
       "dtype: int64"
      ]
     },
     "execution_count": 5,
     "metadata": {},
     "output_type": "execute_result"
    }
   ],
   "source": [
    "# checking for missing data\n",
    "df.isnull().sum()"
   ]
  },
  {
   "cell_type": "code",
   "execution_count": 6,
   "metadata": {},
   "outputs": [
    {
     "data": {
      "text/plain": [
       "Jigawa     13\n",
       "Borno      11\n",
       "Gombe       9\n",
       "Kaduna      8\n",
       "Kebbi       6\n",
       "Kano        6\n",
       "Katsina     5\n",
       "Yobe        5\n",
       "Zamfara     4\n",
       "Oyo         3\n",
       "Name: admname, dtype: int64"
      ]
     },
     "execution_count": 6,
     "metadata": {},
     "output_type": "execute_result"
    }
   ],
   "source": [
    "# getting an overview of the state column\n",
    "df.admname.value_counts()"
   ]
  },
  {
   "cell_type": "code",
   "execution_count": 7,
   "metadata": {},
   "outputs": [],
   "source": [
    "# filling the missing states name with Jigawa, the highest occuring location\n",
    "df['admname'].fillna('Jigawa', inplace=True)"
   ]
  },
  {
   "cell_type": "code",
   "execution_count": 8,
   "metadata": {},
   "outputs": [
    {
     "data": {
      "text/plain": [
       "False    72\n",
       "Name: admname, dtype: int64"
      ]
     },
     "execution_count": 8,
     "metadata": {},
     "output_type": "execute_result"
    }
   ],
   "source": [
    "# confirming if all of the missing values are filled\n",
    "df['admname'].isnull().value_counts()"
   ]
  },
  {
   "cell_type": "code",
   "execution_count": 9,
   "metadata": {},
   "outputs": [],
   "source": [
    "#renaming the column to suit the task\n",
    "df = df.rename(columns={'admname': 'State'})"
   ]
  },
  {
   "cell_type": "code",
   "execution_count": 10,
   "metadata": {},
   "outputs": [],
   "source": [
    "# Since all we need is the date, state and price of the commodity\n",
    "# we would extract this data into a new data frame\n",
    "df2 = df[['date', 'State', 'price']]"
   ]
  },
  {
   "cell_type": "code",
   "execution_count": 11,
   "metadata": {},
   "outputs": [
    {
     "data": {
      "text/html": [
       "<div>\n",
       "<style scoped>\n",
       "    .dataframe tbody tr th:only-of-type {\n",
       "        vertical-align: middle;\n",
       "    }\n",
       "\n",
       "    .dataframe tbody tr th {\n",
       "        vertical-align: top;\n",
       "    }\n",
       "\n",
       "    .dataframe thead th {\n",
       "        text-align: right;\n",
       "    }\n",
       "</style>\n",
       "<table border=\"1\" class=\"dataframe\">\n",
       "  <thead>\n",
       "    <tr style=\"text-align: right;\">\n",
       "      <th></th>\n",
       "      <th>date</th>\n",
       "      <th>State</th>\n",
       "      <th>price</th>\n",
       "    </tr>\n",
       "  </thead>\n",
       "  <tbody>\n",
       "    <tr>\n",
       "      <th>0</th>\n",
       "      <td>2015-01-15</td>\n",
       "      <td>Kebbi</td>\n",
       "      <td>135.75</td>\n",
       "    </tr>\n",
       "    <tr>\n",
       "      <th>1</th>\n",
       "      <td>2015-02-15</td>\n",
       "      <td>Jigawa</td>\n",
       "      <td>140.00</td>\n",
       "    </tr>\n",
       "    <tr>\n",
       "      <th>2</th>\n",
       "      <td>2015-03-15</td>\n",
       "      <td>Jigawa</td>\n",
       "      <td>140.00</td>\n",
       "    </tr>\n",
       "    <tr>\n",
       "      <th>3</th>\n",
       "      <td>2015-04-15</td>\n",
       "      <td>Kebbi</td>\n",
       "      <td>145.75</td>\n",
       "    </tr>\n",
       "    <tr>\n",
       "      <th>4</th>\n",
       "      <td>2015-05-15</td>\n",
       "      <td>Jigawa</td>\n",
       "      <td>146.30</td>\n",
       "    </tr>\n",
       "  </tbody>\n",
       "</table>\n",
       "</div>"
      ],
      "text/plain": [
       "        date   State   price\n",
       "0 2015-01-15   Kebbi  135.75\n",
       "1 2015-02-15  Jigawa  140.00\n",
       "2 2015-03-15  Jigawa  140.00\n",
       "3 2015-04-15   Kebbi  145.75\n",
       "4 2015-05-15  Jigawa  146.30"
      ]
     },
     "execution_count": 11,
     "metadata": {},
     "output_type": "execute_result"
    }
   ],
   "source": [
    "df2.head()"
   ]
  },
  {
   "cell_type": "code",
   "execution_count": 12,
   "metadata": {},
   "outputs": [],
   "source": [
    "#renaming the column to suit the task\n",
    "df2 = df2.rename(columns={'date': 'Date'})\n",
    "df2 = df2.rename(columns={'price': 'Price/Kg'})\n"
   ]
  },
  {
   "cell_type": "code",
   "execution_count": 13,
   "metadata": {},
   "outputs": [],
   "source": [
    "by_state = df2.groupby (['Date','State'])[['Price/Kg']].median().reset_index()"
   ]
  },
  {
   "cell_type": "code",
   "execution_count": 14,
   "metadata": {},
   "outputs": [
    {
     "data": {
      "text/html": [
       "<div>\n",
       "<style scoped>\n",
       "    .dataframe tbody tr th:only-of-type {\n",
       "        vertical-align: middle;\n",
       "    }\n",
       "\n",
       "    .dataframe tbody tr th {\n",
       "        vertical-align: top;\n",
       "    }\n",
       "\n",
       "    .dataframe thead th {\n",
       "        text-align: right;\n",
       "    }\n",
       "</style>\n",
       "<table border=\"1\" class=\"dataframe\">\n",
       "  <thead>\n",
       "    <tr style=\"text-align: right;\">\n",
       "      <th></th>\n",
       "      <th>Date</th>\n",
       "      <th>State</th>\n",
       "      <th>Price/Kg</th>\n",
       "    </tr>\n",
       "  </thead>\n",
       "  <tbody>\n",
       "    <tr>\n",
       "      <th>0</th>\n",
       "      <td>2015-01-15</td>\n",
       "      <td>Kebbi</td>\n",
       "      <td>135.75</td>\n",
       "    </tr>\n",
       "    <tr>\n",
       "      <th>1</th>\n",
       "      <td>2015-02-15</td>\n",
       "      <td>Jigawa</td>\n",
       "      <td>140.00</td>\n",
       "    </tr>\n",
       "    <tr>\n",
       "      <th>2</th>\n",
       "      <td>2015-03-15</td>\n",
       "      <td>Jigawa</td>\n",
       "      <td>140.00</td>\n",
       "    </tr>\n",
       "    <tr>\n",
       "      <th>3</th>\n",
       "      <td>2015-04-15</td>\n",
       "      <td>Kebbi</td>\n",
       "      <td>145.75</td>\n",
       "    </tr>\n",
       "    <tr>\n",
       "      <th>4</th>\n",
       "      <td>2015-05-15</td>\n",
       "      <td>Jigawa</td>\n",
       "      <td>146.30</td>\n",
       "    </tr>\n",
       "    <tr>\n",
       "      <th>...</th>\n",
       "      <td>...</td>\n",
       "      <td>...</td>\n",
       "      <td>...</td>\n",
       "    </tr>\n",
       "    <tr>\n",
       "      <th>67</th>\n",
       "      <td>2020-08-15</td>\n",
       "      <td>Borno</td>\n",
       "      <td>409.08</td>\n",
       "    </tr>\n",
       "    <tr>\n",
       "      <th>68</th>\n",
       "      <td>2020-09-15</td>\n",
       "      <td>Borno</td>\n",
       "      <td>404.35</td>\n",
       "    </tr>\n",
       "    <tr>\n",
       "      <th>69</th>\n",
       "      <td>2020-10-15</td>\n",
       "      <td>Jigawa</td>\n",
       "      <td>345.00</td>\n",
       "    </tr>\n",
       "    <tr>\n",
       "      <th>70</th>\n",
       "      <td>2020-11-15</td>\n",
       "      <td>Jigawa</td>\n",
       "      <td>336.00</td>\n",
       "    </tr>\n",
       "    <tr>\n",
       "      <th>71</th>\n",
       "      <td>2020-12-15</td>\n",
       "      <td>Gombe</td>\n",
       "      <td>345.00</td>\n",
       "    </tr>\n",
       "  </tbody>\n",
       "</table>\n",
       "<p>72 rows × 3 columns</p>\n",
       "</div>"
      ],
      "text/plain": [
       "         Date   State  Price/Kg\n",
       "0  2015-01-15   Kebbi    135.75\n",
       "1  2015-02-15  Jigawa    140.00\n",
       "2  2015-03-15  Jigawa    140.00\n",
       "3  2015-04-15   Kebbi    145.75\n",
       "4  2015-05-15  Jigawa    146.30\n",
       "..        ...     ...       ...\n",
       "67 2020-08-15   Borno    409.08\n",
       "68 2020-09-15   Borno    404.35\n",
       "69 2020-10-15  Jigawa    345.00\n",
       "70 2020-11-15  Jigawa    336.00\n",
       "71 2020-12-15   Gombe    345.00\n",
       "\n",
       "[72 rows x 3 columns]"
      ]
     },
     "execution_count": 14,
     "metadata": {},
     "output_type": "execute_result"
    }
   ],
   "source": [
    "by_state"
   ]
  },
  {
   "cell_type": "code",
   "execution_count": 15,
   "metadata": {},
   "outputs": [],
   "source": [
    "by_state=by_state.set_index('Date')"
   ]
  },
  {
   "cell_type": "code",
   "execution_count": null,
   "metadata": {},
   "outputs": [],
   "source": []
  },
  {
   "cell_type": "code",
   "execution_count": 16,
   "metadata": {},
   "outputs": [
    {
     "data": {
      "text/html": [
       "<div>\n",
       "<style scoped>\n",
       "    .dataframe tbody tr th:only-of-type {\n",
       "        vertical-align: middle;\n",
       "    }\n",
       "\n",
       "    .dataframe tbody tr th {\n",
       "        vertical-align: top;\n",
       "    }\n",
       "\n",
       "    .dataframe thead th {\n",
       "        text-align: right;\n",
       "    }\n",
       "</style>\n",
       "<table border=\"1\" class=\"dataframe\">\n",
       "  <thead>\n",
       "    <tr style=\"text-align: right;\">\n",
       "      <th></th>\n",
       "      <th>State</th>\n",
       "      <th>Price/Kg</th>\n",
       "    </tr>\n",
       "    <tr>\n",
       "      <th>Date</th>\n",
       "      <th></th>\n",
       "      <th></th>\n",
       "    </tr>\n",
       "  </thead>\n",
       "  <tbody>\n",
       "    <tr>\n",
       "      <th>2015-01-15</th>\n",
       "      <td>Kebbi</td>\n",
       "      <td>135.75</td>\n",
       "    </tr>\n",
       "    <tr>\n",
       "      <th>2015-02-15</th>\n",
       "      <td>Jigawa</td>\n",
       "      <td>140.00</td>\n",
       "    </tr>\n",
       "    <tr>\n",
       "      <th>2015-03-15</th>\n",
       "      <td>Jigawa</td>\n",
       "      <td>140.00</td>\n",
       "    </tr>\n",
       "    <tr>\n",
       "      <th>2015-04-15</th>\n",
       "      <td>Kebbi</td>\n",
       "      <td>145.75</td>\n",
       "    </tr>\n",
       "    <tr>\n",
       "      <th>2015-05-15</th>\n",
       "      <td>Jigawa</td>\n",
       "      <td>146.30</td>\n",
       "    </tr>\n",
       "    <tr>\n",
       "      <th>...</th>\n",
       "      <td>...</td>\n",
       "      <td>...</td>\n",
       "    </tr>\n",
       "    <tr>\n",
       "      <th>2020-08-15</th>\n",
       "      <td>Borno</td>\n",
       "      <td>409.08</td>\n",
       "    </tr>\n",
       "    <tr>\n",
       "      <th>2020-09-15</th>\n",
       "      <td>Borno</td>\n",
       "      <td>404.35</td>\n",
       "    </tr>\n",
       "    <tr>\n",
       "      <th>2020-10-15</th>\n",
       "      <td>Jigawa</td>\n",
       "      <td>345.00</td>\n",
       "    </tr>\n",
       "    <tr>\n",
       "      <th>2020-11-15</th>\n",
       "      <td>Jigawa</td>\n",
       "      <td>336.00</td>\n",
       "    </tr>\n",
       "    <tr>\n",
       "      <th>2020-12-15</th>\n",
       "      <td>Gombe</td>\n",
       "      <td>345.00</td>\n",
       "    </tr>\n",
       "  </tbody>\n",
       "</table>\n",
       "<p>72 rows × 2 columns</p>\n",
       "</div>"
      ],
      "text/plain": [
       "             State  Price/Kg\n",
       "Date                        \n",
       "2015-01-15   Kebbi    135.75\n",
       "2015-02-15  Jigawa    140.00\n",
       "2015-03-15  Jigawa    140.00\n",
       "2015-04-15   Kebbi    145.75\n",
       "2015-05-15  Jigawa    146.30\n",
       "...            ...       ...\n",
       "2020-08-15   Borno    409.08\n",
       "2020-09-15   Borno    404.35\n",
       "2020-10-15  Jigawa    345.00\n",
       "2020-11-15  Jigawa    336.00\n",
       "2020-12-15   Gombe    345.00\n",
       "\n",
       "[72 rows x 2 columns]"
      ]
     },
     "execution_count": 16,
     "metadata": {},
     "output_type": "execute_result"
    }
   ],
   "source": [
    "y = by_state\n",
    "y"
   ]
  },
  {
   "cell_type": "code",
   "execution_count": null,
   "metadata": {},
   "outputs": [],
   "source": []
  },
  {
   "cell_type": "code",
   "execution_count": 17,
   "metadata": {},
   "outputs": [],
   "source": [
    "y.drop('State', inplace = True, axis = 1)\n"
   ]
  },
  {
   "cell_type": "code",
   "execution_count": 18,
   "metadata": {},
   "outputs": [
    {
     "data": {
      "text/html": [
       "<div>\n",
       "<style scoped>\n",
       "    .dataframe tbody tr th:only-of-type {\n",
       "        vertical-align: middle;\n",
       "    }\n",
       "\n",
       "    .dataframe tbody tr th {\n",
       "        vertical-align: top;\n",
       "    }\n",
       "\n",
       "    .dataframe thead th {\n",
       "        text-align: right;\n",
       "    }\n",
       "</style>\n",
       "<table border=\"1\" class=\"dataframe\">\n",
       "  <thead>\n",
       "    <tr style=\"text-align: right;\">\n",
       "      <th></th>\n",
       "      <th>Price/Kg</th>\n",
       "    </tr>\n",
       "    <tr>\n",
       "      <th>Date</th>\n",
       "      <th></th>\n",
       "    </tr>\n",
       "  </thead>\n",
       "  <tbody>\n",
       "    <tr>\n",
       "      <th>2015-01-15</th>\n",
       "      <td>135.75</td>\n",
       "    </tr>\n",
       "    <tr>\n",
       "      <th>2015-02-15</th>\n",
       "      <td>140.00</td>\n",
       "    </tr>\n",
       "    <tr>\n",
       "      <th>2015-03-15</th>\n",
       "      <td>140.00</td>\n",
       "    </tr>\n",
       "    <tr>\n",
       "      <th>2015-04-15</th>\n",
       "      <td>145.75</td>\n",
       "    </tr>\n",
       "    <tr>\n",
       "      <th>2015-05-15</th>\n",
       "      <td>146.30</td>\n",
       "    </tr>\n",
       "    <tr>\n",
       "      <th>...</th>\n",
       "      <td>...</td>\n",
       "    </tr>\n",
       "    <tr>\n",
       "      <th>2020-08-15</th>\n",
       "      <td>409.08</td>\n",
       "    </tr>\n",
       "    <tr>\n",
       "      <th>2020-09-15</th>\n",
       "      <td>404.35</td>\n",
       "    </tr>\n",
       "    <tr>\n",
       "      <th>2020-10-15</th>\n",
       "      <td>345.00</td>\n",
       "    </tr>\n",
       "    <tr>\n",
       "      <th>2020-11-15</th>\n",
       "      <td>336.00</td>\n",
       "    </tr>\n",
       "    <tr>\n",
       "      <th>2020-12-15</th>\n",
       "      <td>345.00</td>\n",
       "    </tr>\n",
       "  </tbody>\n",
       "</table>\n",
       "<p>72 rows × 1 columns</p>\n",
       "</div>"
      ],
      "text/plain": [
       "            Price/Kg\n",
       "Date                \n",
       "2015-01-15    135.75\n",
       "2015-02-15    140.00\n",
       "2015-03-15    140.00\n",
       "2015-04-15    145.75\n",
       "2015-05-15    146.30\n",
       "...              ...\n",
       "2020-08-15    409.08\n",
       "2020-09-15    404.35\n",
       "2020-10-15    345.00\n",
       "2020-11-15    336.00\n",
       "2020-12-15    345.00\n",
       "\n",
       "[72 rows x 1 columns]"
      ]
     },
     "execution_count": 18,
     "metadata": {},
     "output_type": "execute_result"
    }
   ],
   "source": [
    "y['2015':]"
   ]
  },
  {
   "cell_type": "code",
   "execution_count": 19,
   "metadata": {
    "scrolled": true
   },
   "outputs": [
    {
     "data": {
      "text/plain": [
       "<matplotlib.axes._subplots.AxesSubplot at 0x144e9ce8a48>"
      ]
     },
     "execution_count": 19,
     "metadata": {},
     "output_type": "execute_result"
    },
    {
     "data": {
      "image/png": "[encoded data removed]",
      "text/plain": [
       "<Figure size 1080x432 with 1 Axes>"
      ]
     },
     "metadata": {
      "needs_background": "light"
     },
     "output_type": "display_data"
    }
   ],
   "source": [
    "# Plotting our data to visualize the price change over the years\n",
    "y.plot(figsize=(15,6))\n"
   ]
  },
  {
   "cell_type": "code",
   "execution_count": 20,
   "metadata": {},
   "outputs": [],
   "source": [
    "# the plot above shows that there is rarely seasonality pattern, especially \n",
    "\n",
    "\n"
   ]
  },
  {
   "cell_type": "code",
   "execution_count": 23,
   "metadata": {},
   "outputs": [
    {
     "data": {
      "text/plain": [
       "[<matplotlib.lines.Line2D at 0x144e9c7e988>]"
      ]
     },
     "execution_count": 23,
     "metadata": {},
     "output_type": "execute_result"
    },
    {
     "data": {
      "image/png": "[encoded data removed]",
      "text/plain": [
       "<Figure size 432x288 with 1 Axes>"
      ]
     },
     "metadata": {
      "needs_background": "light"
     },
     "output_type": "display_data"
    }
   ],
   "source": [
    "# converting data to log form for simplicity\n",
    "y_log = np.log(y)\n",
    "plt.plot(y_log)"
   ]
  },
  {
   "cell_type": "code",
   "execution_count": 26,
   "metadata": {},
   "outputs": [
    {
     "data": {
      "text/plain": [
       "[<matplotlib.lines.Line2D at 0x144ea9032c8>]"
      ]
     },
     "execution_count": 26,
     "metadata": {},
     "output_type": "execute_result"
    },
    {
     "data": {
      "image/png": "[encoded data removed]",
      "text/plain": [
       "<Figure size 432x288 with 1 Axes>"
      ]
     },
     "metadata": {
      "needs_background": "light"
     },
     "output_type": "display_data"
    }
   ],
   "source": [
    "# performing differncing to limit seasonality\n",
    "y_log_diff = y_log - y_log.shift()\n",
    "plt.plot(y_log_diff)"
   ]
  },
  {
   "cell_type": "code",
   "execution_count": 27,
   "metadata": {},
   "outputs": [],
   "source": [
    "y_log_diff.dropna(inplace=True)"
   ]
  },
  {
   "cell_type": "code",
   "execution_count": 33,
   "metadata": {},
   "outputs": [
    {
     "name": "stderr",
     "output_type": "stream",
     "text": [
      "C:\\Users\\User\\anaconda3\\lib\\site-packages\\statsmodels\\tsa\\base\\tsa_model.py:218: ValueWarning: A date index has been provided, but it has no associated frequency information and so will be ignored when e.g. forecasting.\n",
      "  ' ignored when e.g. forecasting.', ValueWarning)\n",
      "C:\\Users\\User\\anaconda3\\lib\\site-packages\\statsmodels\\tsa\\base\\tsa_model.py:218: ValueWarning: A date index has been provided, but it has no associated frequency information and so will be ignored when e.g. forecasting.\n",
      "  ' ignored when e.g. forecasting.', ValueWarning)\n",
      "C:\\Users\\User\\anaconda3\\lib\\site-packages\\statsmodels\\base\\model.py:548: HessianInversionWarning: Inverting hessian failed, no bse or cov_params available\n",
      "  'available', HessianInversionWarning)\n"
     ]
    },
    {
     "ename": "TypeError",
     "evalue": "Addition/subtraction of integers and integer-arrays with Timestamp is no longer supported.  Instead of adding/subtracting `n`, use `n * obj.freq`",
     "output_type": "error",
     "traceback": [
      "\u001b[1;31m---------------------------------------------------------------------------\u001b[0m",
      "\u001b[1;31mTypeError\u001b[0m                                 Traceback (most recent call last)",
      "\u001b[1;32m<ipython-input-33-57318be6c061>\u001b[0m in \u001b[0;36m<module>\u001b[1;34m\u001b[0m\n\u001b[0;32m      3\u001b[0m \u001b[0mplt\u001b[0m\u001b[1;33m.\u001b[0m\u001b[0mplot\u001b[0m\u001b[1;33m(\u001b[0m\u001b[0my_log_diff\u001b[0m\u001b[1;33m)\u001b[0m\u001b[1;33m\u001b[0m\u001b[1;33m\u001b[0m\u001b[0m\n\u001b[0;32m      4\u001b[0m \u001b[0mplt\u001b[0m\u001b[1;33m.\u001b[0m\u001b[0mplot\u001b[0m\u001b[1;33m(\u001b[0m\u001b[0mresults_ARIMA\u001b[0m\u001b[1;33m.\u001b[0m\u001b[0mfittedvalues\u001b[0m\u001b[1;33m,\u001b[0m \u001b[0mcolor\u001b[0m\u001b[1;33m=\u001b[0m\u001b[1;34m'red'\u001b[0m\u001b[1;33m)\u001b[0m\u001b[1;33m\u001b[0m\u001b[1;33m\u001b[0m\u001b[0m\n\u001b[1;32m----> 5\u001b[1;33m \u001b[0mplt\u001b[0m\u001b[1;33m.\u001b[0m\u001b[0mtitle\u001b[0m\u001b[1;33m(\u001b[0m\u001b[1;34m'RSS: %.4f'\u001b[0m\u001b[1;33m%\u001b[0m \u001b[0msum\u001b[0m\u001b[1;33m(\u001b[0m\u001b[1;33m(\u001b[0m\u001b[0mresults_ARIMA\u001b[0m\u001b[1;33m.\u001b[0m\u001b[0mfittedvalues\u001b[0m\u001b[1;33m-\u001b[0m\u001b[0my_log_diff\u001b[0m\u001b[1;33m)\u001b[0m\u001b[1;33m**\u001b[0m\u001b[1;36m2\u001b[0m\u001b[1;33m)\u001b[0m\u001b[1;33m)\u001b[0m\u001b[1;33m\u001b[0m\u001b[1;33m\u001b[0m\u001b[0m\n\u001b[0m",
      "\u001b[1;32mpandas\\_libs\\tslibs\\timestamps.pyx\u001b[0m in \u001b[0;36mpandas._libs.tslibs.timestamps.Timestamp.__radd__\u001b[1;34m()\u001b[0m\n",
      "\u001b[1;32mpandas\\_libs\\tslibs\\c_timestamp.pyx\u001b[0m in \u001b[0;36mpandas._libs.tslibs.c_timestamp._Timestamp.__add__\u001b[1;34m()\u001b[0m\n",
      "\u001b[1;31mTypeError\u001b[0m: Addition/subtraction of integers and integer-arrays with Timestamp is no longer supported.  Instead of adding/subtracting `n`, use `n * obj.freq`"
     ]
    },
    {
     "data": {
      "image/png": "[encoded data removed]",
      "text/plain": [
       "<Figure size 432x288 with 1 Axes>"
      ]
     },
     "metadata": {
      "needs_background": "light"
     },
     "output_type": "display_data"
    }
   ],
   "source": [
    "# creating the model\n",
    "model = ARIMA(y_log, order=(2, 1, 2))  \n",
    "results_ARIMA = model.fit(disp=-1)  \n",
    "plt.plot(y_log_diff)\n",
    "plt.plot(results_ARIMA.fittedvalues, color='red')\n",
    "plt.title('RSS: %.4f'% sum((results_ARIMA.fittedvalues-y_log_diff)**2))"
   ]
  },
  {
   "cell_type": "code",
   "execution_count": 36,
   "metadata": {},
   "outputs": [
    {
     "name": "stdout",
     "output_type": "stream",
     "text": [
      "Date\n",
      "2015-02-15    0.013324\n",
      "2015-03-15    0.016145\n",
      "2015-04-15    0.012554\n",
      "2015-05-15    0.016020\n",
      "2015-06-15    0.012509\n",
      "dtype: float64\n"
     ]
    }
   ],
   "source": [
    "#taking it back to original scale\n",
    "predictions_ARIMA_diff = pd.Series(results_ARIMA.fittedvalues, copy=True)\n",
    "print (predictions_ARIMA_diff.head())"
   ]
  },
  {
   "cell_type": "code",
   "execution_count": 43,
   "metadata": {},
   "outputs": [
    {
     "name": "stdout",
     "output_type": "stream",
     "text": [
      "Date\n",
      "2015-02-15    0.013324\n",
      "2015-03-15    0.029469\n",
      "2015-04-15    0.042023\n",
      "2015-05-15    0.058043\n",
      "2015-06-15    0.070552\n",
      "dtype: float64\n"
     ]
    }
   ],
   "source": [
    "predictions_ARIMA_diff_cumsum = predictions_ARIMA_diff.cumsum()\n",
    "print (predictions_ARIMA_diff_cumsum.head())"
   ]
  },
  {
   "cell_type": "code",
   "execution_count": 46,
   "metadata": {},
   "outputs": [
    {
     "data": {
      "text/plain": [
       "Date\n",
       "2015-01-15    4.910815\n",
       "2015-02-15    4.954967\n",
       "2015-03-15    4.971111\n",
       "2015-04-15    5.023916\n",
       "2015-05-15    5.043702\n",
       "dtype: float64"
      ]
     },
     "execution_count": 46,
     "metadata": {},
     "output_type": "execute_result"
    }
   ],
   "source": [
    "predictions_ARIMA_log = pd.Series(y_log['Price/Kg'], index=y_log.index)\n",
    "predictions_ARIMA_log = predictions_ARIMA_log.add(predictions_ARIMA_diff_cumsum,fill_value=0)\n",
    "predictions_ARIMA_log.head()"
   ]
  },
  {
   "cell_type": "code",
   "execution_count": 48,
   "metadata": {},
   "outputs": [
    {
     "ename": "TypeError",
     "evalue": "Addition/subtraction of integers and integer-arrays with Timestamp is no longer supported.  Instead of adding/subtracting `n`, use `n * obj.freq`",
     "output_type": "error",
     "traceback": [
      "\u001b[1;31m---------------------------------------------------------------------------\u001b[0m",
      "\u001b[1;31mTypeError\u001b[0m                                 Traceback (most recent call last)",
      "\u001b[1;32m<ipython-input-48-e162605ef582>\u001b[0m in \u001b[0;36m<module>\u001b[1;34m\u001b[0m\n\u001b[0;32m      2\u001b[0m \u001b[0mplt\u001b[0m\u001b[1;33m.\u001b[0m\u001b[0mplot\u001b[0m\u001b[1;33m(\u001b[0m\u001b[0my\u001b[0m\u001b[1;33m)\u001b[0m\u001b[1;33m\u001b[0m\u001b[1;33m\u001b[0m\u001b[0m\n\u001b[0;32m      3\u001b[0m \u001b[0mplt\u001b[0m\u001b[1;33m.\u001b[0m\u001b[0mplot\u001b[0m\u001b[1;33m(\u001b[0m\u001b[0mpredictions_ARIMA\u001b[0m\u001b[1;33m)\u001b[0m\u001b[1;33m\u001b[0m\u001b[1;33m\u001b[0m\u001b[0m\n\u001b[1;32m----> 4\u001b[1;33m \u001b[0mplt\u001b[0m\u001b[1;33m.\u001b[0m\u001b[0mtitle\u001b[0m\u001b[1;33m(\u001b[0m\u001b[1;34m'RMSE: %.4f'\u001b[0m\u001b[1;33m%\u001b[0m \u001b[0mnp\u001b[0m\u001b[1;33m.\u001b[0m\u001b[0msqrt\u001b[0m\u001b[1;33m(\u001b[0m\u001b[0msum\u001b[0m\u001b[1;33m(\u001b[0m\u001b[1;33m(\u001b[0m\u001b[0mpredictions_ARIMA\u001b[0m\u001b[1;33m-\u001b[0m\u001b[0my\u001b[0m\u001b[1;33m)\u001b[0m\u001b[1;33m**\u001b[0m\u001b[1;36m2\u001b[0m\u001b[1;33m)\u001b[0m\u001b[1;33m/\u001b[0m\u001b[0mlen\u001b[0m\u001b[1;33m(\u001b[0m\u001b[0my\u001b[0m\u001b[1;33m)\u001b[0m\u001b[1;33m)\u001b[0m\u001b[1;33m)\u001b[0m\u001b[1;33m\u001b[0m\u001b[1;33m\u001b[0m\u001b[0m\n\u001b[0m",
      "\u001b[1;32mpandas\\_libs\\tslibs\\timestamps.pyx\u001b[0m in \u001b[0;36mpandas._libs.tslibs.timestamps.Timestamp.__radd__\u001b[1;34m()\u001b[0m\n",
      "\u001b[1;32mpandas\\_libs\\tslibs\\c_timestamp.pyx\u001b[0m in \u001b[0;36mpandas._libs.tslibs.c_timestamp._Timestamp.__add__\u001b[1;34m()\u001b[0m\n",
      "\u001b[1;31mTypeError\u001b[0m: Addition/subtraction of integers and integer-arrays with Timestamp is no longer supported.  Instead of adding/subtracting `n`, use `n * obj.freq`"
     ]
    },
    {
     "data": {
      "image/png": "[encoded data removed]",
      "text/plain": [
       "<Figure size 432x288 with 1 Axes>"
      ]
     },
     "metadata": {
      "needs_background": "light"
     },
     "output_type": "display_data"
    }
   ],
   "source": [
    "# Taking exponents and making predictions\n",
    "predictions_ARIMA = np.exp(predictions_ARIMA_log)\n",
    "plt.plot(y)\n",
    "plt.plot(predictions_ARIMA)\n",
    "plt.title('RMSE: %.4f'% np.sqrt(sum((predictions_ARIMA-y)**2)/len(y)))"
   ]
  }
 ],
 "metadata": {
  "kernelspec": {
   "display_name": "Python 3",
   "language": "python",
   "name": "python3"
  },
  "language_info": {
   "codemirror_mode": {
    "name": "ipython",
    "version": 3
   },
   "file_extension": ".py",
   "mimetype": "text/x-python",
   "name": "python",
   "nbconvert_exporter": "python",
   "pygments_lexer": "ipython3",
   "version": "3.7.6"
  }
 },
 "nbformat": 4,
 "nbformat_minor": 4
}
