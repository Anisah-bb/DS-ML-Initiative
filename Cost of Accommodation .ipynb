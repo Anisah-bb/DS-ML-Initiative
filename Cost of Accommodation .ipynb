{
 "cells": [
  {
   "cell_type": "code",
   "execution_count": 200,
   "metadata": {},
   "outputs": [],
   "source": [
    "\n",
    "# IT HAS BEEN OBSERVED THAT A LOT OF YOUNG PEOPLE FACE SOME CHALLENGES WHILE KICK-STARTING THEIR CAREERS AND TRYING TO MOVE\n",
    "# OUT. THIS IS USUALLY BECAUSE THEY TEND TO MOVE TO BIGGER CITIES WHERE ACCOMODATION IS EXPENSIVE. THIS NOTEBOOK CONTAINS \n",
    "# DATA COLLECTED WITH REGARDS TO COST OF ACOOMODATION AND LEVEL OF INCOME ACROSS THE AGE GROUP OF 18 - 29 YEARS. THIS\n",
    "# NOTEBOOKS AIMS TO ANALYZE THIS DATA AND SHOW THE RELATIONSHIPS BETWEEN INCOME AND MONEY SPENT ON ACCOMMODATION BY YOUNG \n",
    "#ADULTS"
   ]
  },
  {
   "cell_type": "code",
   "execution_count": 201,
   "metadata": {},
   "outputs": [],
   "source": [
    "#IMPORTING RELEVANT LIBRARIES\n",
    "import numpy as np\n",
    "import pandas as pd\n",
    "import matplotlib as plt \n",
    "%matplotlib inline\n",
    "import seaborn as sns "
   ]
  },
  {
   "cell_type": "code",
   "execution_count": 202,
   "metadata": {},
   "outputs": [],
   "source": [
    "#READING THE DOCUMENT TO DATA FRAME\n",
    "df = pd.read_csv(r'C:\\Users\\User\\Desktop\\Accommodation Assessment Form (Responses) - Form responses 1.csv' )"
   ]
  },
  {
   "cell_type": "code",
   "execution_count": 203,
   "metadata": {},
   "outputs": [
    {
     "data": {
      "text/html": [
       "<div>\n",
       "<style scoped>\n",
       "    .dataframe tbody tr th:only-of-type {\n",
       "        vertical-align: middle;\n",
       "    }\n",
       "\n",
       "    .dataframe tbody tr th {\n",
       "        vertical-align: top;\n",
       "    }\n",
       "\n",
       "    .dataframe thead th {\n",
       "        text-align: right;\n",
       "    }\n",
       "</style>\n",
       "<table border=\"1\" class=\"dataframe\">\n",
       "  <thead>\n",
       "    <tr style=\"text-align: right;\">\n",
       "      <th></th>\n",
       "      <th>Timestamp</th>\n",
       "      <th>Age</th>\n",
       "      <th>Gender</th>\n",
       "      <th>Maximum Level of Education</th>\n",
       "      <th>Country</th>\n",
       "      <th>State/Province</th>\n",
       "      <th>Based on your answer above, how industrious is your State of residence?</th>\n",
       "      <th>Currency</th>\n",
       "      <th>Monthly Salary in the currency you mentioned above</th>\n",
       "      <th>Career Industry</th>\n",
       "      <th>Years of working experience</th>\n",
       "      <th>Do you foot your accommodation bills?</th>\n",
       "      <th>If you selected \"Not completely\", what fraction of the rent do you pay?</th>\n",
       "      <th>Accommodation Rented</th>\n",
       "      <th>Location of accommodation</th>\n",
       "      <th>Cost of your accommodation per month</th>\n",
       "      <th>Do you think accommodation prices are generally high in your State of residence for young adults?</th>\n",
       "    </tr>\n",
       "  </thead>\n",
       "  <tbody>\n",
       "    <tr>\n",
       "      <th>0</th>\n",
       "      <td>20/01/2021 07:57:57</td>\n",
       "      <td>24</td>\n",
       "      <td>Male</td>\n",
       "      <td>Bachelor's Degree/Equivalent</td>\n",
       "      <td>Nigeria</td>\n",
       "      <td>Lagos</td>\n",
       "      <td>Industrious</td>\n",
       "      <td>Naira</td>\n",
       "      <td>150000</td>\n",
       "      <td>Accounting &amp; Tech</td>\n",
       "      <td>1.0</td>\n",
       "      <td>Yes</td>\n",
       "      <td>NaN</td>\n",
       "      <td>Full Flat</td>\n",
       "      <td>Mid-class area</td>\n",
       "      <td>80000</td>\n",
       "      <td>Yes</td>\n",
       "    </tr>\n",
       "    <tr>\n",
       "      <th>1</th>\n",
       "      <td>20/01/2021 09:02:41</td>\n",
       "      <td>27</td>\n",
       "      <td>Female</td>\n",
       "      <td>Bachelor's Degree/Equivalent</td>\n",
       "      <td>Kenya</td>\n",
       "      <td>Nairobi</td>\n",
       "      <td>Most industrious in the country</td>\n",
       "      <td>Kenyan Shillings</td>\n",
       "      <td>150000</td>\n",
       "      <td>Software Engineer</td>\n",
       "      <td>3.0</td>\n",
       "      <td>Yes</td>\n",
       "      <td>NaN</td>\n",
       "      <td>Shared Flat</td>\n",
       "      <td>Mid-class area</td>\n",
       "      <td>35000</td>\n",
       "      <td>Yes</td>\n",
       "    </tr>\n",
       "    <tr>\n",
       "      <th>2</th>\n",
       "      <td>20/01/2021 09:07:23</td>\n",
       "      <td>25</td>\n",
       "      <td>Female</td>\n",
       "      <td>High/Secondary School</td>\n",
       "      <td>South Africa</td>\n",
       "      <td>Cape Town</td>\n",
       "      <td>Non-Industrious</td>\n",
       "      <td>Rand</td>\n",
       "      <td>2000</td>\n",
       "      <td>Hospitality</td>\n",
       "      <td>5.0</td>\n",
       "      <td>Yes</td>\n",
       "      <td>NaN</td>\n",
       "      <td>Shared Flat</td>\n",
       "      <td>Mid-class area</td>\n",
       "      <td>R3500</td>\n",
       "      <td>Yes</td>\n",
       "    </tr>\n",
       "    <tr>\n",
       "      <th>3</th>\n",
       "      <td>20/01/2021 09:27:26</td>\n",
       "      <td>28</td>\n",
       "      <td>Female</td>\n",
       "      <td>Bachelor's Degree/Equivalent</td>\n",
       "      <td>Nigeria</td>\n",
       "      <td>Lagos</td>\n",
       "      <td>Most industrious in the country</td>\n",
       "      <td>Naira</td>\n",
       "      <td>0</td>\n",
       "      <td>IT</td>\n",
       "      <td>0.0</td>\n",
       "      <td>No</td>\n",
       "      <td>NaN</td>\n",
       "      <td>Neither. I do not pay rents</td>\n",
       "      <td>I do not pay rents</td>\n",
       "      <td>NaN</td>\n",
       "      <td>Yes</td>\n",
       "    </tr>\n",
       "    <tr>\n",
       "      <th>4</th>\n",
       "      <td>20/01/2021 09:27:53</td>\n",
       "      <td>24</td>\n",
       "      <td>Female</td>\n",
       "      <td>Bachelor's Degree/Equivalent</td>\n",
       "      <td>Nigeria</td>\n",
       "      <td>Lagos</td>\n",
       "      <td>Industrious</td>\n",
       "      <td>Naira</td>\n",
       "      <td>70000</td>\n",
       "      <td>Tech</td>\n",
       "      <td>1.0</td>\n",
       "      <td>Not completely</td>\n",
       "      <td>1/4</td>\n",
       "      <td>Neither. I do not pay rents</td>\n",
       "      <td>Low brow area</td>\n",
       "      <td>N/A</td>\n",
       "      <td>Yes</td>\n",
       "    </tr>\n",
       "    <tr>\n",
       "      <th>5</th>\n",
       "      <td>20/01/2021 10:22:51</td>\n",
       "      <td>22</td>\n",
       "      <td>Female</td>\n",
       "      <td>Bachelor's Degree/Equivalent</td>\n",
       "      <td>Nigeria</td>\n",
       "      <td>Abia state</td>\n",
       "      <td>Industrious</td>\n",
       "      <td>Naira</td>\n",
       "      <td>30000</td>\n",
       "      <td>Tech</td>\n",
       "      <td>0.0</td>\n",
       "      <td>No</td>\n",
       "      <td>NaN</td>\n",
       "      <td>Neither. I do not pay rents</td>\n",
       "      <td>Mid-class area</td>\n",
       "      <td>NaN</td>\n",
       "      <td>No</td>\n",
       "    </tr>\n",
       "    <tr>\n",
       "      <th>6</th>\n",
       "      <td>20/01/2021 10:39:12</td>\n",
       "      <td>20</td>\n",
       "      <td>Female</td>\n",
       "      <td>High/Secondary School</td>\n",
       "      <td>Nigeria</td>\n",
       "      <td>Lagos</td>\n",
       "      <td>Industrious</td>\n",
       "      <td>Naira</td>\n",
       "      <td>0</td>\n",
       "      <td>Tech</td>\n",
       "      <td>0.0</td>\n",
       "      <td>No</td>\n",
       "      <td>NaN</td>\n",
       "      <td>Neither. I do not pay rents</td>\n",
       "      <td>High brow area</td>\n",
       "      <td>NaN</td>\n",
       "      <td>Yes</td>\n",
       "    </tr>\n",
       "    <tr>\n",
       "      <th>7</th>\n",
       "      <td>20/01/2021 10:50:19</td>\n",
       "      <td>28</td>\n",
       "      <td>Female</td>\n",
       "      <td>Master's Degree</td>\n",
       "      <td>Nigeria</td>\n",
       "      <td>Rivers State</td>\n",
       "      <td>Industrious</td>\n",
       "      <td>Naira</td>\n",
       "      <td>0</td>\n",
       "      <td>Engineering</td>\n",
       "      <td>0.0</td>\n",
       "      <td>No</td>\n",
       "      <td>NaN</td>\n",
       "      <td>Neither. I do not pay rents</td>\n",
       "      <td>I do not pay rents</td>\n",
       "      <td>NaN</td>\n",
       "      <td>Yes</td>\n",
       "    </tr>\n",
       "    <tr>\n",
       "      <th>8</th>\n",
       "      <td>20/01/2021 11:00:07</td>\n",
       "      <td>20</td>\n",
       "      <td>Female</td>\n",
       "      <td>Undergraduate</td>\n",
       "      <td>Nigeria</td>\n",
       "      <td>Rivers State</td>\n",
       "      <td>Industrious</td>\n",
       "      <td>Naira</td>\n",
       "      <td>15000</td>\n",
       "      <td>Tech</td>\n",
       "      <td>1.0</td>\n",
       "      <td>Not completely</td>\n",
       "      <td>1/2</td>\n",
       "      <td>Self-contained</td>\n",
       "      <td>Mid-class area</td>\n",
       "      <td>140000</td>\n",
       "      <td>Yes</td>\n",
       "    </tr>\n",
       "    <tr>\n",
       "      <th>9</th>\n",
       "      <td>20/01/2021 11:00:31</td>\n",
       "      <td>27</td>\n",
       "      <td>Male</td>\n",
       "      <td>Bachelor's Degree/Equivalent</td>\n",
       "      <td>Nigeria</td>\n",
       "      <td>Delta</td>\n",
       "      <td>Industrious</td>\n",
       "      <td>Naira</td>\n",
       "      <td>145000</td>\n",
       "      <td>Engineering</td>\n",
       "      <td>3.0</td>\n",
       "      <td>Yes</td>\n",
       "      <td>NaN</td>\n",
       "      <td>Full Flat</td>\n",
       "      <td>Low brow area</td>\n",
       "      <td>20000</td>\n",
       "      <td>Yes</td>\n",
       "    </tr>\n",
       "  </tbody>\n",
       "</table>\n",
       "</div>"
      ],
      "text/plain": [
       "             Timestamp  Age  Gender    Maximum Level of Education  \\\n",
       "0  20/01/2021 07:57:57   24    Male  Bachelor's Degree/Equivalent   \n",
       "1  20/01/2021 09:02:41   27  Female  Bachelor's Degree/Equivalent   \n",
       "2  20/01/2021 09:07:23   25  Female         High/Secondary School   \n",
       "3  20/01/2021 09:27:26   28  Female  Bachelor's Degree/Equivalent   \n",
       "4  20/01/2021 09:27:53   24  Female  Bachelor's Degree/Equivalent   \n",
       "5  20/01/2021 10:22:51   22  Female  Bachelor's Degree/Equivalent   \n",
       "6  20/01/2021 10:39:12   20  Female         High/Secondary School   \n",
       "7  20/01/2021 10:50:19   28  Female               Master's Degree   \n",
       "8  20/01/2021 11:00:07   20  Female                 Undergraduate   \n",
       "9  20/01/2021 11:00:31   27    Male  Bachelor's Degree/Equivalent   \n",
       "\n",
       "        Country State/Province  \\\n",
       "0       Nigeria          Lagos   \n",
       "1         Kenya        Nairobi   \n",
       "2  South Africa      Cape Town   \n",
       "3       Nigeria          Lagos   \n",
       "4       Nigeria          Lagos   \n",
       "5      Nigeria     Abia state    \n",
       "6      Nigeria           Lagos   \n",
       "7       Nigeria   Rivers State   \n",
       "8       Nigeria   Rivers State   \n",
       "9      Nigeria           Delta   \n",
       "\n",
       "  Based on your answer above, how industrious is your State of residence?  \\\n",
       "0                                        Industrious                        \n",
       "1                    Most industrious in the country                        \n",
       "2                                    Non-Industrious                        \n",
       "3                    Most industrious in the country                        \n",
       "4                                        Industrious                        \n",
       "5                                        Industrious                        \n",
       "6                                        Industrious                        \n",
       "7                                        Industrious                        \n",
       "8                                        Industrious                        \n",
       "9                                        Industrious                        \n",
       "\n",
       "           Currency  Monthly Salary in the currency you mentioned above  \\\n",
       "0             Naira                                             150000    \n",
       "1  Kenyan Shillings                                             150000    \n",
       "2              Rand                                               2000    \n",
       "3             Naira                                                  0    \n",
       "4            Naira                                               70000    \n",
       "5             Naira                                              30000    \n",
       "6             Naira                                                  0    \n",
       "7             Naira                                                  0    \n",
       "8             Naira                                              15000    \n",
       "9             Naira                                             145000    \n",
       "\n",
       "     Career Industry  Years of working experience  \\\n",
       "0  Accounting & Tech                          1.0   \n",
       "1  Software Engineer                          3.0   \n",
       "2        Hospitality                          5.0   \n",
       "3                 IT                          0.0   \n",
       "4               Tech                          1.0   \n",
       "5               Tech                          0.0   \n",
       "6               Tech                          0.0   \n",
       "7        Engineering                          0.0   \n",
       "8               Tech                          1.0   \n",
       "9       Engineering                           3.0   \n",
       "\n",
       "  Do you foot your accommodation bills?  \\\n",
       "0                                   Yes   \n",
       "1                                   Yes   \n",
       "2                                   Yes   \n",
       "3                                    No   \n",
       "4                        Not completely   \n",
       "5                                    No   \n",
       "6                                    No   \n",
       "7                                    No   \n",
       "8                        Not completely   \n",
       "9                                   Yes   \n",
       "\n",
       "  If you selected \"Not completely\", what fraction of the rent do you pay?  \\\n",
       "0                                                NaN                        \n",
       "1                                                NaN                        \n",
       "2                                                NaN                        \n",
       "3                                                NaN                        \n",
       "4                                                1/4                        \n",
       "5                                                NaN                        \n",
       "6                                                NaN                        \n",
       "7                                                NaN                        \n",
       "8                                                1/2                        \n",
       "9                                                NaN                        \n",
       "\n",
       "          Accommodation Rented Location of accommodation  \\\n",
       "0                    Full Flat            Mid-class area   \n",
       "1                  Shared Flat            Mid-class area   \n",
       "2                  Shared Flat            Mid-class area   \n",
       "3  Neither. I do not pay rents        I do not pay rents   \n",
       "4  Neither. I do not pay rents             Low brow area   \n",
       "5  Neither. I do not pay rents            Mid-class area   \n",
       "6  Neither. I do not pay rents            High brow area   \n",
       "7  Neither. I do not pay rents        I do not pay rents   \n",
       "8               Self-contained            Mid-class area   \n",
       "9                    Full Flat             Low brow area   \n",
       "\n",
       "  Cost of your accommodation per month  \\\n",
       "0                                80000   \n",
       "1                                35000   \n",
       "2                                R3500   \n",
       "3                                  NaN   \n",
       "4                                  N/A   \n",
       "5                                  NaN   \n",
       "6                                  NaN   \n",
       "7                                  NaN   \n",
       "8                               140000   \n",
       "9                                20000   \n",
       "\n",
       "  Do you think accommodation prices are generally high in your State of residence for young adults?  \n",
       "0                                                Yes                                                 \n",
       "1                                                Yes                                                 \n",
       "2                                                Yes                                                 \n",
       "3                                                Yes                                                 \n",
       "4                                                Yes                                                 \n",
       "5                                                 No                                                 \n",
       "6                                                Yes                                                 \n",
       "7                                                Yes                                                 \n",
       "8                                                Yes                                                 \n",
       "9                                                Yes                                                 "
      ]
     },
     "execution_count": 203,
     "metadata": {},
     "output_type": "execute_result"
    }
   ],
   "source": [
    "df.head(10)"
   ]
  },
  {
   "cell_type": "code",
   "execution_count": 204,
   "metadata": {},
   "outputs": [
    {
     "data": {
      "text/html": [
       "<div>\n",
       "<style scoped>\n",
       "    .dataframe tbody tr th:only-of-type {\n",
       "        vertical-align: middle;\n",
       "    }\n",
       "\n",
       "    .dataframe tbody tr th {\n",
       "        vertical-align: top;\n",
       "    }\n",
       "\n",
       "    .dataframe thead th {\n",
       "        text-align: right;\n",
       "    }\n",
       "</style>\n",
       "<table border=\"1\" class=\"dataframe\">\n",
       "  <thead>\n",
       "    <tr style=\"text-align: right;\">\n",
       "      <th></th>\n",
       "      <th>Age</th>\n",
       "      <th>Monthly Salary in the currency you mentioned above</th>\n",
       "      <th>Years of working experience</th>\n",
       "    </tr>\n",
       "  </thead>\n",
       "  <tbody>\n",
       "    <tr>\n",
       "      <th>count</th>\n",
       "      <td>121.000000</td>\n",
       "      <td>121.000000</td>\n",
       "      <td>121.000000</td>\n",
       "    </tr>\n",
       "    <tr>\n",
       "      <th>mean</th>\n",
       "      <td>23.421488</td>\n",
       "      <td>60587.603306</td>\n",
       "      <td>1.492975</td>\n",
       "    </tr>\n",
       "    <tr>\n",
       "      <th>std</th>\n",
       "      <td>2.798071</td>\n",
       "      <td>113215.106155</td>\n",
       "      <td>1.840282</td>\n",
       "    </tr>\n",
       "    <tr>\n",
       "      <th>min</th>\n",
       "      <td>18.000000</td>\n",
       "      <td>0.000000</td>\n",
       "      <td>0.000000</td>\n",
       "    </tr>\n",
       "    <tr>\n",
       "      <th>25%</th>\n",
       "      <td>22.000000</td>\n",
       "      <td>0.000000</td>\n",
       "      <td>0.000000</td>\n",
       "    </tr>\n",
       "    <tr>\n",
       "      <th>50%</th>\n",
       "      <td>23.000000</td>\n",
       "      <td>20000.000000</td>\n",
       "      <td>1.000000</td>\n",
       "    </tr>\n",
       "    <tr>\n",
       "      <th>75%</th>\n",
       "      <td>25.000000</td>\n",
       "      <td>70000.000000</td>\n",
       "      <td>2.000000</td>\n",
       "    </tr>\n",
       "    <tr>\n",
       "      <th>max</th>\n",
       "      <td>29.000000</td>\n",
       "      <td>800000.000000</td>\n",
       "      <td>10.000000</td>\n",
       "    </tr>\n",
       "  </tbody>\n",
       "</table>\n",
       "</div>"
      ],
      "text/plain": [
       "              Age  Monthly Salary in the currency you mentioned above  \\\n",
       "count  121.000000                                         121.000000    \n",
       "mean    23.421488                                       60587.603306    \n",
       "std      2.798071                                      113215.106155    \n",
       "min     18.000000                                           0.000000    \n",
       "25%     22.000000                                           0.000000    \n",
       "50%     23.000000                                       20000.000000    \n",
       "75%     25.000000                                       70000.000000    \n",
       "max     29.000000                                      800000.000000    \n",
       "\n",
       "       Years of working experience  \n",
       "count                   121.000000  \n",
       "mean                      1.492975  \n",
       "std                       1.840282  \n",
       "min                       0.000000  \n",
       "25%                       0.000000  \n",
       "50%                       1.000000  \n",
       "75%                       2.000000  \n",
       "max                      10.000000  "
      ]
     },
     "execution_count": 204,
     "metadata": {},
     "output_type": "execute_result"
    }
   ],
   "source": [
    "#CHECKING FOR THE GENERAL STATISTICS OF THE DATA\n",
    "df.describe()"
   ]
  },
  {
   "cell_type": "code",
   "execution_count": 205,
   "metadata": {},
   "outputs": [
    {
     "data": {
      "text/plain": [
       "Timestamp                                                                                             object\n",
       "Age                                                                                                    int64\n",
       "Gender                                                                                                object\n",
       "Maximum Level of Education                                                                            object\n",
       "Country                                                                                               object\n",
       "State/Province                                                                                        object\n",
       "Based on your answer above, how industrious is your State of residence?                               object\n",
       "Currency                                                                                              object\n",
       "Monthly Salary in the currency you mentioned above                                                     int64\n",
       "Career Industry                                                                                       object\n",
       "Years of working experience                                                                          float64\n",
       "Do you foot your accommodation bills?                                                                 object\n",
       "If you selected \"Not completely\", what fraction of the rent do you pay?                               object\n",
       "Accommodation Rented                                                                                  object\n",
       "Location of accommodation                                                                             object\n",
       "Cost of your accommodation per month                                                                  object\n",
       "Do you think accommodation prices are generally high in your State of residence for young adults?     object\n",
       "dtype: object"
      ]
     },
     "execution_count": 205,
     "metadata": {},
     "output_type": "execute_result"
    }
   ],
   "source": [
    "#CHECKING FOR DATA TYPES\n",
    "df.dtypes"
   ]
  },
  {
   "cell_type": "code",
   "execution_count": 206,
   "metadata": {},
   "outputs": [
    {
     "data": {
      "text/plain": [
       "Timestamp                                                                                             0\n",
       "Age                                                                                                   0\n",
       "Gender                                                                                                0\n",
       "Maximum Level of Education                                                                            0\n",
       "Country                                                                                               0\n",
       "State/Province                                                                                        0\n",
       "Based on your answer above, how industrious is your State of residence?                               3\n",
       "Currency                                                                                              0\n",
       "Monthly Salary in the currency you mentioned above                                                    0\n",
       "Career Industry                                                                                       0\n",
       "Years of working experience                                                                           0\n",
       "Do you foot your accommodation bills?                                                                 0\n",
       "If you selected \"Not completely\", what fraction of the rent do you pay?                              93\n",
       "Accommodation Rented                                                                                  0\n",
       "Location of accommodation                                                                             0\n",
       "Cost of your accommodation per month                                                                 38\n",
       "Do you think accommodation prices are generally high in your State of residence for young adults?     0\n",
       "dtype: int64"
      ]
     },
     "execution_count": 206,
     "metadata": {},
     "output_type": "execute_result"
    }
   ],
   "source": [
    "#CHECKING FOR MISSING VARIABLES\n",
    "df.isnull().sum()"
   ]
  },
  {
   "cell_type": "code",
   "execution_count": 207,
   "metadata": {},
   "outputs": [
    {
     "data": {
      "text/plain": [
       "10000           9\n",
       "25000           6\n",
       "5000            5\n",
       "7000            2\n",
       "3000            2\n",
       "6500            2\n",
       "15000           2\n",
       "12500           2\n",
       "60000           2\n",
       "18000           2\n",
       "1500            1\n",
       "180,000         1\n",
       "12,500          1\n",
       "17,000          1\n",
       "12000           1\n",
       "10,000          1\n",
       "3333            1\n",
       "#5000           1\n",
       "150,000         1\n",
       "140             1\n",
       "55,000          1\n",
       "6250            1\n",
       "R3500           1\n",
       "200,000         1\n",
       "35000           1\n",
       "10830           1\n",
       "23000           1\n",
       "83000           1\n",
       "11600           1\n",
       "13,200          1\n",
       "None            1\n",
       "40, 000         1\n",
       "33,333          1\n",
       "22000           1\n",
       "17000           1\n",
       "35,000          1\n",
       "167000          1\n",
       "300000          1\n",
       "700,000         1\n",
       "20833           1\n",
       "100000          1\n",
       "120,000         1\n",
       "16,666 NAIRA    1\n",
       "0               1\n",
       "15,000          1\n",
       " N/A            1\n",
       "20000           1\n",
       "180000          1\n",
       "140000          1\n",
       "5800            1\n",
       "80000           1\n",
       "1000            1\n",
       "30000 naira     1\n",
       "17500           1\n",
       "45              1\n",
       "15              1\n",
       "40000           1\n",
       "#10,000         1\n",
       "2500            1\n",
       "Name: Cost of your accommodation per month, dtype: int64"
      ]
     },
     "execution_count": 207,
     "metadata": {},
     "output_type": "execute_result"
    }
   ],
   "source": [
    "#Checking the components of the cost of accomodation colum\n",
    "df['Cost of your accommodation per month'].value_counts()"
   ]
  },
  {
   "cell_type": "code",
   "execution_count": 208,
   "metadata": {},
   "outputs": [],
   "source": [
    "#Giving the enteries a uniform format\n",
    "\n",
    "df['Cost of your accommodation per month'].replace({\"16,666 NAIRA\":'16666', \"#5000\":\"5000\",\"30000 naira\":\"30000\", \"#10,000\": \"10000\", \"R3500\": \"3500\"}, inplace = True)"
   ]
  },
  {
   "cell_type": "code",
   "execution_count": 209,
   "metadata": {},
   "outputs": [],
   "source": [
    "#Giving the enteries a uniform format\n",
    "df['Cost of your accommodation per month'].replace({\"15,000\": \"15000\", \"16,666\":\"16666\",\"180,000\" : \"180000\", \"17,000\" : \"17000\", \"12,500\": \"12500\", \"120,000\":\"120000\", \"13,200\": \"13200\", \"33,333\": \"33333\", \"55,000\":\"55000\", \"150,000\": \"150000\", \"40, 000\": \"40000\", \"35,000\": \"35000\", \"700,000\": \"700000\", \"10,000\": \"10000\", \"200,000\": \"200000\", \"None\": \"0\", \" N/A\": \"0\"}, inplace=True)"
   ]
  },
  {
   "cell_type": "code",
   "execution_count": 210,
   "metadata": {},
   "outputs": [],
   "source": [
    "#filling the NaN with 0\n",
    "df['Cost of your accommodation per month'].fillna(0, inplace=True)"
   ]
  },
  {
   "cell_type": "code",
   "execution_count": 211,
   "metadata": {},
   "outputs": [],
   "source": [
    "#Changing the data type to int\n",
    "df['Cost of your accommodation per month'] = df['Cost of your accommodation per month'].astype('float')"
   ]
  },
  {
   "cell_type": "code",
   "execution_count": 212,
   "metadata": {},
   "outputs": [
    {
     "data": {
      "text/plain": [
       "array(['Naira', 'Kenyan Shillings', 'Rand', 'Naira ', 'NAIRA',\n",
       "       'Naira, Dollars', 'Dollars', 'NAIRA ', 'NARIA'], dtype=object)"
      ]
     },
     "execution_count": 212,
     "metadata": {},
     "output_type": "execute_result"
    }
   ],
   "source": [
    "#Getting an overview of the currency column\n",
    "df.Currency.unique()"
   ]
  },
  {
   "cell_type": "code",
   "execution_count": 213,
   "metadata": {},
   "outputs": [],
   "source": [
    "#Creating a uniform data format for easy grouping of the cost of accomodation values\n",
    "df['Currency'].replace({\"Naira\" :'Naira', 'Naira ':'Naira', 'NAIRA':'Naira', 'NAIRA ':'Naira', 'NARIA' : 'Naira' }, inplace=True)"
   ]
  },
  {
   "cell_type": "code",
   "execution_count": 214,
   "metadata": {},
   "outputs": [
    {
     "data": {
      "text/html": [
       "<div>\n",
       "<style scoped>\n",
       "    .dataframe tbody tr th:only-of-type {\n",
       "        vertical-align: middle;\n",
       "    }\n",
       "\n",
       "    .dataframe tbody tr th {\n",
       "        vertical-align: top;\n",
       "    }\n",
       "\n",
       "    .dataframe thead th {\n",
       "        text-align: right;\n",
       "    }\n",
       "</style>\n",
       "<table border=\"1\" class=\"dataframe\">\n",
       "  <thead>\n",
       "    <tr style=\"text-align: right;\">\n",
       "      <th></th>\n",
       "      <th>Timestamp</th>\n",
       "      <th>Age</th>\n",
       "      <th>Gender</th>\n",
       "      <th>Maximum Level of Education</th>\n",
       "      <th>Country</th>\n",
       "      <th>State/Province</th>\n",
       "      <th>Based on your answer above, how industrious is your State of residence?</th>\n",
       "      <th>Currency</th>\n",
       "      <th>Monthly Salary in the currency you mentioned above</th>\n",
       "      <th>Career Industry</th>\n",
       "      <th>Years of working experience</th>\n",
       "      <th>Do you foot your accommodation bills?</th>\n",
       "      <th>If you selected \"Not completely\", what fraction of the rent do you pay?</th>\n",
       "      <th>Accommodation Rented</th>\n",
       "      <th>Location of accommodation</th>\n",
       "      <th>Cost of your accommodation per month</th>\n",
       "      <th>Do you think accommodation prices are generally high in your State of residence for young adults?</th>\n",
       "    </tr>\n",
       "  </thead>\n",
       "  <tbody>\n",
       "    <tr>\n",
       "      <th>0</th>\n",
       "      <td>20/01/2021 07:57:57</td>\n",
       "      <td>24</td>\n",
       "      <td>Male</td>\n",
       "      <td>Bachelor's Degree/Equivalent</td>\n",
       "      <td>Nigeria</td>\n",
       "      <td>Lagos</td>\n",
       "      <td>Industrious</td>\n",
       "      <td>Naira</td>\n",
       "      <td>150000</td>\n",
       "      <td>Accounting &amp; Tech</td>\n",
       "      <td>1.0</td>\n",
       "      <td>Yes</td>\n",
       "      <td>NaN</td>\n",
       "      <td>Full Flat</td>\n",
       "      <td>Mid-class area</td>\n",
       "      <td>80000.000000</td>\n",
       "      <td>Yes</td>\n",
       "    </tr>\n",
       "    <tr>\n",
       "      <th>1</th>\n",
       "      <td>20/01/2021 09:02:41</td>\n",
       "      <td>27</td>\n",
       "      <td>Female</td>\n",
       "      <td>Bachelor's Degree/Equivalent</td>\n",
       "      <td>Kenya</td>\n",
       "      <td>Nairobi</td>\n",
       "      <td>Most industrious in the country</td>\n",
       "      <td>Kenyan Shillings</td>\n",
       "      <td>150000</td>\n",
       "      <td>Software Engineer</td>\n",
       "      <td>3.0</td>\n",
       "      <td>Yes</td>\n",
       "      <td>NaN</td>\n",
       "      <td>Shared Flat</td>\n",
       "      <td>Mid-class area</td>\n",
       "      <td>35000.000000</td>\n",
       "      <td>Yes</td>\n",
       "    </tr>\n",
       "    <tr>\n",
       "      <th>2</th>\n",
       "      <td>20/01/2021 09:07:23</td>\n",
       "      <td>25</td>\n",
       "      <td>Female</td>\n",
       "      <td>High/Secondary School</td>\n",
       "      <td>South Africa</td>\n",
       "      <td>Cape Town</td>\n",
       "      <td>Non-Industrious</td>\n",
       "      <td>Rand</td>\n",
       "      <td>2000</td>\n",
       "      <td>Hospitality</td>\n",
       "      <td>5.0</td>\n",
       "      <td>Yes</td>\n",
       "      <td>NaN</td>\n",
       "      <td>Shared Flat</td>\n",
       "      <td>Mid-class area</td>\n",
       "      <td>3500.000000</td>\n",
       "      <td>Yes</td>\n",
       "    </tr>\n",
       "    <tr>\n",
       "      <th>3</th>\n",
       "      <td>20/01/2021 09:27:26</td>\n",
       "      <td>28</td>\n",
       "      <td>Female</td>\n",
       "      <td>Bachelor's Degree/Equivalent</td>\n",
       "      <td>Nigeria</td>\n",
       "      <td>Lagos</td>\n",
       "      <td>Most industrious in the country</td>\n",
       "      <td>Naira</td>\n",
       "      <td>0</td>\n",
       "      <td>IT</td>\n",
       "      <td>0.0</td>\n",
       "      <td>No</td>\n",
       "      <td>NaN</td>\n",
       "      <td>Neither. I do not pay rents</td>\n",
       "      <td>I do not pay rents</td>\n",
       "      <td>45628.378378</td>\n",
       "      <td>Yes</td>\n",
       "    </tr>\n",
       "    <tr>\n",
       "      <th>4</th>\n",
       "      <td>20/01/2021 09:27:53</td>\n",
       "      <td>24</td>\n",
       "      <td>Female</td>\n",
       "      <td>Bachelor's Degree/Equivalent</td>\n",
       "      <td>Nigeria</td>\n",
       "      <td>Lagos</td>\n",
       "      <td>Industrious</td>\n",
       "      <td>Naira</td>\n",
       "      <td>70000</td>\n",
       "      <td>Tech</td>\n",
       "      <td>1.0</td>\n",
       "      <td>Not completely</td>\n",
       "      <td>1/4</td>\n",
       "      <td>Neither. I do not pay rents</td>\n",
       "      <td>Low brow area</td>\n",
       "      <td>45628.378378</td>\n",
       "      <td>Yes</td>\n",
       "    </tr>\n",
       "  </tbody>\n",
       "</table>\n",
       "</div>"
      ],
      "text/plain": [
       "             Timestamp  Age  Gender    Maximum Level of Education  \\\n",
       "0  20/01/2021 07:57:57   24    Male  Bachelor's Degree/Equivalent   \n",
       "1  20/01/2021 09:02:41   27  Female  Bachelor's Degree/Equivalent   \n",
       "2  20/01/2021 09:07:23   25  Female         High/Secondary School   \n",
       "3  20/01/2021 09:27:26   28  Female  Bachelor's Degree/Equivalent   \n",
       "4  20/01/2021 09:27:53   24  Female  Bachelor's Degree/Equivalent   \n",
       "\n",
       "        Country State/Province  \\\n",
       "0       Nigeria          Lagos   \n",
       "1         Kenya        Nairobi   \n",
       "2  South Africa      Cape Town   \n",
       "3       Nigeria          Lagos   \n",
       "4       Nigeria          Lagos   \n",
       "\n",
       "  Based on your answer above, how industrious is your State of residence?  \\\n",
       "0                                        Industrious                        \n",
       "1                    Most industrious in the country                        \n",
       "2                                    Non-Industrious                        \n",
       "3                    Most industrious in the country                        \n",
       "4                                        Industrious                        \n",
       "\n",
       "           Currency  Monthly Salary in the currency you mentioned above  \\\n",
       "0             Naira                                             150000    \n",
       "1  Kenyan Shillings                                             150000    \n",
       "2              Rand                                               2000    \n",
       "3             Naira                                                  0    \n",
       "4             Naira                                              70000    \n",
       "\n",
       "     Career Industry  Years of working experience  \\\n",
       "0  Accounting & Tech                          1.0   \n",
       "1  Software Engineer                          3.0   \n",
       "2        Hospitality                          5.0   \n",
       "3                 IT                          0.0   \n",
       "4               Tech                          1.0   \n",
       "\n",
       "  Do you foot your accommodation bills?  \\\n",
       "0                                   Yes   \n",
       "1                                   Yes   \n",
       "2                                   Yes   \n",
       "3                                    No   \n",
       "4                        Not completely   \n",
       "\n",
       "  If you selected \"Not completely\", what fraction of the rent do you pay?  \\\n",
       "0                                                NaN                        \n",
       "1                                                NaN                        \n",
       "2                                                NaN                        \n",
       "3                                                NaN                        \n",
       "4                                                1/4                        \n",
       "\n",
       "          Accommodation Rented Location of accommodation  \\\n",
       "0                    Full Flat            Mid-class area   \n",
       "1                  Shared Flat            Mid-class area   \n",
       "2                  Shared Flat            Mid-class area   \n",
       "3  Neither. I do not pay rents        I do not pay rents   \n",
       "4  Neither. I do not pay rents             Low brow area   \n",
       "\n",
       "   Cost of your accommodation per month  \\\n",
       "0                          80000.000000   \n",
       "1                          35000.000000   \n",
       "2                           3500.000000   \n",
       "3                          45628.378378   \n",
       "4                          45628.378378   \n",
       "\n",
       "  Do you think accommodation prices are generally high in your State of residence for young adults?  \n",
       "0                                                Yes                                                 \n",
       "1                                                Yes                                                 \n",
       "2                                                Yes                                                 \n",
       "3                                                Yes                                                 \n",
       "4                                                Yes                                                 "
      ]
     },
     "execution_count": 214,
     "metadata": {},
     "output_type": "execute_result"
    }
   ],
   "source": [
    "#Repplacing the 0 with Nan and then filling them with mean values, grouped by currency\n",
    "df['Cost of your accommodation per month'] = df['Cost of your accommodation per month'].replace(0, np.nan)\n",
    "df['Cost of your accommodation per month']=df['Cost of your accommodation per month'].fillna(df.groupby('Currency')['Cost of your accommodation per month'].transform('mean'))\n",
    "df.head()"
   ]
  },
  {
   "cell_type": "code",
   "execution_count": 215,
   "metadata": {},
   "outputs": [
    {
     "data": {
      "text/plain": [
       "Timestamp                                                                                             0\n",
       "Age                                                                                                   0\n",
       "Gender                                                                                                0\n",
       "Maximum Level of Education                                                                            0\n",
       "Country                                                                                               0\n",
       "State/Province                                                                                        0\n",
       "Based on your answer above, how industrious is your State of residence?                               3\n",
       "Currency                                                                                              0\n",
       "Monthly Salary in the currency you mentioned above                                                    0\n",
       "Career Industry                                                                                       0\n",
       "Years of working experience                                                                           0\n",
       "Do you foot your accommodation bills?                                                                 0\n",
       "If you selected \"Not completely\", what fraction of the rent do you pay?                              93\n",
       "Accommodation Rented                                                                                  0\n",
       "Location of accommodation                                                                             0\n",
       "Cost of your accommodation per month                                                                  0\n",
       "Do you think accommodation prices are generally high in your State of residence for young adults?     0\n",
       "dtype: int64"
      ]
     },
     "execution_count": 215,
     "metadata": {},
     "output_type": "execute_result"
    }
   ],
   "source": [
    "#Checking for more missing values\n",
    "df.isnull().sum()"
   ]
  },
  {
   "cell_type": "code",
   "execution_count": 216,
   "metadata": {},
   "outputs": [],
   "source": [
    "#renaming a column for easy calling\n",
    "df = df.rename(columns={'Based on your answer above, how industrious is your State of residence?': 'How Industrious'})"
   ]
  },
  {
   "cell_type": "code",
   "execution_count": 217,
   "metadata": {},
   "outputs": [
    {
     "data": {
      "text/html": [
       "<div>\n",
       "<style scoped>\n",
       "    .dataframe tbody tr th:only-of-type {\n",
       "        vertical-align: middle;\n",
       "    }\n",
       "\n",
       "    .dataframe tbody tr th {\n",
       "        vertical-align: top;\n",
       "    }\n",
       "\n",
       "    .dataframe thead th {\n",
       "        text-align: right;\n",
       "    }\n",
       "</style>\n",
       "<table border=\"1\" class=\"dataframe\">\n",
       "  <thead>\n",
       "    <tr style=\"text-align: right;\">\n",
       "      <th></th>\n",
       "      <th>Timestamp</th>\n",
       "      <th>Age</th>\n",
       "      <th>Gender</th>\n",
       "      <th>Maximum Level of Education</th>\n",
       "      <th>Country</th>\n",
       "      <th>State/Province</th>\n",
       "      <th>How Industrious</th>\n",
       "      <th>Currency</th>\n",
       "      <th>Monthly Salary in the currency you mentioned above</th>\n",
       "      <th>Career Industry</th>\n",
       "      <th>Years of working experience</th>\n",
       "      <th>Do you foot your accommodation bills?</th>\n",
       "      <th>If you selected \"Not completely\", what fraction of the rent do you pay?</th>\n",
       "      <th>Accommodation Rented</th>\n",
       "      <th>Location of accommodation</th>\n",
       "      <th>Cost of your accommodation per month</th>\n",
       "      <th>Do you think accommodation prices are generally high in your State of residence for young adults?</th>\n",
       "    </tr>\n",
       "  </thead>\n",
       "  <tbody>\n",
       "    <tr>\n",
       "      <th>0</th>\n",
       "      <td>20/01/2021 07:57:57</td>\n",
       "      <td>24</td>\n",
       "      <td>Male</td>\n",
       "      <td>Bachelor's Degree/Equivalent</td>\n",
       "      <td>Nigeria</td>\n",
       "      <td>Lagos</td>\n",
       "      <td>Industrious</td>\n",
       "      <td>Naira</td>\n",
       "      <td>150000</td>\n",
       "      <td>Accounting &amp; Tech</td>\n",
       "      <td>1.0</td>\n",
       "      <td>Yes</td>\n",
       "      <td>NaN</td>\n",
       "      <td>Full Flat</td>\n",
       "      <td>Mid-class area</td>\n",
       "      <td>80000.000000</td>\n",
       "      <td>Yes</td>\n",
       "    </tr>\n",
       "    <tr>\n",
       "      <th>1</th>\n",
       "      <td>20/01/2021 09:02:41</td>\n",
       "      <td>27</td>\n",
       "      <td>Female</td>\n",
       "      <td>Bachelor's Degree/Equivalent</td>\n",
       "      <td>Kenya</td>\n",
       "      <td>Nairobi</td>\n",
       "      <td>Most industrious in the country</td>\n",
       "      <td>Kenyan Shillings</td>\n",
       "      <td>150000</td>\n",
       "      <td>Software Engineer</td>\n",
       "      <td>3.0</td>\n",
       "      <td>Yes</td>\n",
       "      <td>NaN</td>\n",
       "      <td>Shared Flat</td>\n",
       "      <td>Mid-class area</td>\n",
       "      <td>35000.000000</td>\n",
       "      <td>Yes</td>\n",
       "    </tr>\n",
       "    <tr>\n",
       "      <th>2</th>\n",
       "      <td>20/01/2021 09:07:23</td>\n",
       "      <td>25</td>\n",
       "      <td>Female</td>\n",
       "      <td>High/Secondary School</td>\n",
       "      <td>South Africa</td>\n",
       "      <td>Cape Town</td>\n",
       "      <td>Non-Industrious</td>\n",
       "      <td>Rand</td>\n",
       "      <td>2000</td>\n",
       "      <td>Hospitality</td>\n",
       "      <td>5.0</td>\n",
       "      <td>Yes</td>\n",
       "      <td>NaN</td>\n",
       "      <td>Shared Flat</td>\n",
       "      <td>Mid-class area</td>\n",
       "      <td>3500.000000</td>\n",
       "      <td>Yes</td>\n",
       "    </tr>\n",
       "    <tr>\n",
       "      <th>3</th>\n",
       "      <td>20/01/2021 09:27:26</td>\n",
       "      <td>28</td>\n",
       "      <td>Female</td>\n",
       "      <td>Bachelor's Degree/Equivalent</td>\n",
       "      <td>Nigeria</td>\n",
       "      <td>Lagos</td>\n",
       "      <td>Most industrious in the country</td>\n",
       "      <td>Naira</td>\n",
       "      <td>0</td>\n",
       "      <td>IT</td>\n",
       "      <td>0.0</td>\n",
       "      <td>No</td>\n",
       "      <td>NaN</td>\n",
       "      <td>Neither. I do not pay rents</td>\n",
       "      <td>I do not pay rents</td>\n",
       "      <td>45628.378378</td>\n",
       "      <td>Yes</td>\n",
       "    </tr>\n",
       "    <tr>\n",
       "      <th>4</th>\n",
       "      <td>20/01/2021 09:27:53</td>\n",
       "      <td>24</td>\n",
       "      <td>Female</td>\n",
       "      <td>Bachelor's Degree/Equivalent</td>\n",
       "      <td>Nigeria</td>\n",
       "      <td>Lagos</td>\n",
       "      <td>Industrious</td>\n",
       "      <td>Naira</td>\n",
       "      <td>70000</td>\n",
       "      <td>Tech</td>\n",
       "      <td>1.0</td>\n",
       "      <td>Not completely</td>\n",
       "      <td>1/4</td>\n",
       "      <td>Neither. I do not pay rents</td>\n",
       "      <td>Low brow area</td>\n",
       "      <td>45628.378378</td>\n",
       "      <td>Yes</td>\n",
       "    </tr>\n",
       "  </tbody>\n",
       "</table>\n",
       "</div>"
      ],
      "text/plain": [
       "             Timestamp  Age  Gender    Maximum Level of Education  \\\n",
       "0  20/01/2021 07:57:57   24    Male  Bachelor's Degree/Equivalent   \n",
       "1  20/01/2021 09:02:41   27  Female  Bachelor's Degree/Equivalent   \n",
       "2  20/01/2021 09:07:23   25  Female         High/Secondary School   \n",
       "3  20/01/2021 09:27:26   28  Female  Bachelor's Degree/Equivalent   \n",
       "4  20/01/2021 09:27:53   24  Female  Bachelor's Degree/Equivalent   \n",
       "\n",
       "        Country State/Province                  How Industrious  \\\n",
       "0       Nigeria          Lagos                      Industrious   \n",
       "1         Kenya        Nairobi  Most industrious in the country   \n",
       "2  South Africa      Cape Town                  Non-Industrious   \n",
       "3       Nigeria          Lagos  Most industrious in the country   \n",
       "4       Nigeria          Lagos                      Industrious   \n",
       "\n",
       "           Currency  Monthly Salary in the currency you mentioned above  \\\n",
       "0             Naira                                             150000    \n",
       "1  Kenyan Shillings                                             150000    \n",
       "2              Rand                                               2000    \n",
       "3             Naira                                                  0    \n",
       "4             Naira                                              70000    \n",
       "\n",
       "     Career Industry  Years of working experience  \\\n",
       "0  Accounting & Tech                          1.0   \n",
       "1  Software Engineer                          3.0   \n",
       "2        Hospitality                          5.0   \n",
       "3                 IT                          0.0   \n",
       "4               Tech                          1.0   \n",
       "\n",
       "  Do you foot your accommodation bills?  \\\n",
       "0                                   Yes   \n",
       "1                                   Yes   \n",
       "2                                   Yes   \n",
       "3                                    No   \n",
       "4                        Not completely   \n",
       "\n",
       "  If you selected \"Not completely\", what fraction of the rent do you pay?  \\\n",
       "0                                                NaN                        \n",
       "1                                                NaN                        \n",
       "2                                                NaN                        \n",
       "3                                                NaN                        \n",
       "4                                                1/4                        \n",
       "\n",
       "          Accommodation Rented Location of accommodation  \\\n",
       "0                    Full Flat            Mid-class area   \n",
       "1                  Shared Flat            Mid-class area   \n",
       "2                  Shared Flat            Mid-class area   \n",
       "3  Neither. I do not pay rents        I do not pay rents   \n",
       "4  Neither. I do not pay rents             Low brow area   \n",
       "\n",
       "   Cost of your accommodation per month  \\\n",
       "0                          80000.000000   \n",
       "1                          35000.000000   \n",
       "2                           3500.000000   \n",
       "3                          45628.378378   \n",
       "4                          45628.378378   \n",
       "\n",
       "  Do you think accommodation prices are generally high in your State of residence for young adults?  \n",
       "0                                                Yes                                                 \n",
       "1                                                Yes                                                 \n",
       "2                                                Yes                                                 \n",
       "3                                                Yes                                                 \n",
       "4                                                Yes                                                 "
      ]
     },
     "execution_count": 217,
     "metadata": {},
     "output_type": "execute_result"
    }
   ],
   "source": [
    "#Checking for the change\n",
    "df.head()"
   ]
  },
  {
   "cell_type": "code",
   "execution_count": 218,
   "metadata": {},
   "outputs": [
    {
     "data": {
      "text/plain": [
       "Industrious                        59\n",
       "Most industrious in the country    36\n",
       "Non-Industrious                    17\n",
       "Unknown                             6\n",
       "Name: How Industrious, dtype: int64"
      ]
     },
     "execution_count": 218,
     "metadata": {},
     "output_type": "execute_result"
    }
   ],
   "source": [
    "#Getting an overview of the column\n",
    "df['How Industrious'].value_counts()"
   ]
  },
  {
   "cell_type": "code",
   "execution_count": 219,
   "metadata": {},
   "outputs": [
    {
     "data": {
      "text/plain": [
       "0    Industrious\n",
       "dtype: object"
      ]
     },
     "execution_count": 219,
     "metadata": {},
     "output_type": "execute_result"
    }
   ],
   "source": [
    "#Getting the mode of the column\n",
    "mode = df['How Industrious'].mode()\n",
    "mode"
   ]
  },
  {
   "cell_type": "code",
   "execution_count": 220,
   "metadata": {},
   "outputs": [
    {
     "data": {
      "text/plain": [
       "0                          Industrious\n",
       "1      Most industrious in the country\n",
       "2                      Non-Industrious\n",
       "3      Most industrious in the country\n",
       "4                          Industrious\n",
       "                    ...               \n",
       "116    Most industrious in the country\n",
       "117                        Industrious\n",
       "118                        Industrious\n",
       "119                        Industrious\n",
       "120                        Industrious\n",
       "Name: How Industrious, Length: 121, dtype: object"
      ]
     },
     "execution_count": 220,
     "metadata": {},
     "output_type": "execute_result"
    }
   ],
   "source": [
    "#filling Nan with mode\n",
    "df['How Industrious'].fillna(mode)"
   ]
  },
  {
   "cell_type": "code",
   "execution_count": 221,
   "metadata": {},
   "outputs": [
    {
     "data": {
      "text/plain": [
       "array(['Industrious', 'Most industrious in the country',\n",
       "       'Non-Industrious', 'Unknown', nan], dtype=object)"
      ]
     },
     "execution_count": 221,
     "metadata": {},
     "output_type": "execute_result"
    }
   ],
   "source": [
    "#Checking for further irregularities \n",
    "df['How Industrious'].unique()"
   ]
  },
  {
   "cell_type": "code",
   "execution_count": 222,
   "metadata": {},
   "outputs": [],
   "source": [
    "#Making the data uniform\n",
    "df['How Industrious'].replace({\"Unknown\":\"Industrious\", np.nan: \"Industrious\"} ,inplace = True)"
   ]
  },
  {
   "cell_type": "code",
   "execution_count": 223,
   "metadata": {},
   "outputs": [
    {
     "data": {
      "text/plain": [
       "Industrious                        68\n",
       "Most industrious in the country    36\n",
       "Non-Industrious                    17\n",
       "Name: How Industrious, dtype: int64"
      ]
     },
     "execution_count": 223,
     "metadata": {},
     "output_type": "execute_result"
    }
   ],
   "source": [
    "#Confirming the uniformity\n",
    "df['How Industrious'].value_counts()"
   ]
  },
  {
   "cell_type": "code",
   "execution_count": 224,
   "metadata": {},
   "outputs": [
    {
     "data": {
      "text/plain": [
       "Timestamp                                                                                             0\n",
       "Age                                                                                                   0\n",
       "Gender                                                                                                0\n",
       "Maximum Level of Education                                                                            0\n",
       "Country                                                                                               0\n",
       "State/Province                                                                                        0\n",
       "How Industrious                                                                                       0\n",
       "Currency                                                                                              0\n",
       "Monthly Salary in the currency you mentioned above                                                    0\n",
       "Career Industry                                                                                       0\n",
       "Years of working experience                                                                           0\n",
       "Do you foot your accommodation bills?                                                                 0\n",
       "If you selected \"Not completely\", what fraction of the rent do you pay?                              93\n",
       "Accommodation Rented                                                                                  0\n",
       "Location of accommodation                                                                             0\n",
       "Cost of your accommodation per month                                                                  0\n",
       "Do you think accommodation prices are generally high in your State of residence for young adults?     0\n",
       "dtype: int64"
      ]
     },
     "execution_count": 224,
     "metadata": {},
     "output_type": "execute_result"
    }
   ],
   "source": [
    "#Checking for more mising values\n",
    "df.isnull().sum()"
   ]
  },
  {
   "cell_type": "code",
   "execution_count": 225,
   "metadata": {},
   "outputs": [],
   "source": [
    "#The only column with missing values here is dependent on another colmn, hence we ignore it."
   ]
  },
  {
   "cell_type": "code",
   "execution_count": 226,
   "metadata": {},
   "outputs": [
    {
     "data": {
      "text/plain": [
       "Female    78\n",
       "Male      43\n",
       "Name: Gender, dtype: int64"
      ]
     },
     "execution_count": 226,
     "metadata": {},
     "output_type": "execute_result"
    }
   ],
   "source": [
    "df[\"Gender\"].value_counts()"
   ]
  },
  {
   "cell_type": "code",
   "execution_count": 227,
   "metadata": {},
   "outputs": [
    {
     "data": {
      "text/plain": [
       "<matplotlib.axes._subplots.AxesSubplot at 0x172e8f37f08>"
      ]
     },
     "execution_count": 227,
     "metadata": {},
     "output_type": "execute_result"
    },
    {
     "data": {
      "image/png": "[encoded data removed]",
      "text/plain": [
       "<Figure size 432x288 with 1 Axes>"
      ]
     },
     "metadata": {
      "needs_background": "light"
     },
     "output_type": "display_data"
    }
   ],
   "source": [
    "#Plotting the distributions of age, country and gender\n",
    "sns.countplot(df.Gender)"
   ]
  },
  {
   "cell_type": "code",
   "execution_count": 228,
   "metadata": {},
   "outputs": [
    {
     "data": {
      "text/plain": [
       "22    23\n",
       "23    19\n",
       "25    14\n",
       "24    12\n",
       "21    12\n",
       "29     9\n",
       "20     9\n",
       "27     7\n",
       "19     7\n",
       "28     6\n",
       "26     2\n",
       "18     1\n",
       "Name: Age, dtype: int64"
      ]
     },
     "execution_count": 228,
     "metadata": {},
     "output_type": "execute_result"
    }
   ],
   "source": [
    "#Showing the age distribution\n",
    "df[\"Age\"].value_counts()"
   ]
  },
  {
   "cell_type": "code",
   "execution_count": 229,
   "metadata": {},
   "outputs": [
    {
     "data": {
      "text/plain": [
       "<matplotlib.axes._subplots.AxesSubplot at 0x172e8b7fac8>"
      ]
     },
     "execution_count": 229,
     "metadata": {},
     "output_type": "execute_result"
    },
    {
     "data": {
      "image/png": "[encoded data removed]",
      "text/plain": [
       "<Figure size 432x288 with 1 Axes>"
      ]
     },
     "metadata": {
      "needs_background": "light"
     },
     "output_type": "display_data"
    }
   ],
   "source": [
    "sns.countplot(df.Age)"
   ]
  },
  {
   "cell_type": "code",
   "execution_count": 230,
   "metadata": {},
   "outputs": [],
   "source": [
    "#Getting the Country Column Uniform\n",
    "df[\"Country\"].replace({\"Nigeria \": \"Nigeria\", \"Nigeria\": \"Nigeria\", \"Nigeria\":\"Nigeria\", \"NIGERIA \":\"Nigeria\", \"Nigerian\": \"Nigeria\", \"NIGERIA\":\"Nigeria\",\"NIGERIA\":\"Nigeria\", \"NIGERIAN\": \"Nigeria\", \"Adamawa\": \"Nigeria\" }, inplace = True)\n"
   ]
  },
  {
   "cell_type": "code",
   "execution_count": 231,
   "metadata": {},
   "outputs": [
    {
     "data": {
      "text/plain": [
       "Nigeria         117\n",
       "Kenya             3\n",
       "South Africa      1\n",
       "Name: Country, dtype: int64"
      ]
     },
     "execution_count": 231,
     "metadata": {},
     "output_type": "execute_result"
    }
   ],
   "source": [
    "#Showing the data distribution by country\n",
    "df[\"Country\"].value_counts()"
   ]
  },
  {
   "cell_type": "code",
   "execution_count": 232,
   "metadata": {},
   "outputs": [
    {
     "data": {
      "text/plain": [
       "<matplotlib.axes._subplots.AxesSubplot at 0x172e8c12a88>"
      ]
     },
     "execution_count": 232,
     "metadata": {},
     "output_type": "execute_result"
    },
    {
     "data": {
      "image/png": "[encoded data removed]",
      "text/plain": [
       "<Figure size 1440x720 with 1 Axes>"
      ]
     },
     "metadata": {
      "needs_background": "light"
     },
     "output_type": "display_data"
    }
   ],
   "source": [
    "\n",
    "plt.rcParams['figure.figsize'] = (20.0, 10.0)\n",
    "sns.countplot(df.Country)\n"
   ]
  },
  {
   "cell_type": "code",
   "execution_count": 233,
   "metadata": {},
   "outputs": [
    {
     "data": {
      "text/plain": [
       "Naira               115\n",
       "Kenyan Shillings      3\n",
       "Naira, Dollars        1\n",
       "Rand                  1\n",
       "Dollars               1\n",
       "Name: Currency, dtype: int64"
      ]
     },
     "execution_count": 233,
     "metadata": {},
     "output_type": "execute_result"
    }
   ],
   "source": [
    "df[\"Currency\"].value_counts()"
   ]
  },
  {
   "cell_type": "code",
   "execution_count": 243,
   "metadata": {},
   "outputs": [
    {
     "data": {
      "text/html": [
       "<div>\n",
       "<style scoped>\n",
       "    .dataframe tbody tr th:only-of-type {\n",
       "        vertical-align: middle;\n",
       "    }\n",
       "\n",
       "    .dataframe tbody tr th {\n",
       "        vertical-align: top;\n",
       "    }\n",
       "\n",
       "    .dataframe thead th {\n",
       "        text-align: right;\n",
       "    }\n",
       "</style>\n",
       "<table border=\"1\" class=\"dataframe\">\n",
       "  <thead>\n",
       "    <tr style=\"text-align: right;\">\n",
       "      <th></th>\n",
       "      <th>Timestamp</th>\n",
       "      <th>Age</th>\n",
       "      <th>Gender</th>\n",
       "      <th>Maximum Level of Education</th>\n",
       "      <th>Country</th>\n",
       "      <th>State/Province</th>\n",
       "      <th>How Industrious</th>\n",
       "      <th>Currency</th>\n",
       "      <th>Monthly Salary in the currency you mentioned above</th>\n",
       "      <th>Career Industry</th>\n",
       "      <th>Years of working experience</th>\n",
       "      <th>Do you foot your accommodation bills?</th>\n",
       "      <th>If you selected \"Not completely\", what fraction of the rent do you pay?</th>\n",
       "      <th>Accommodation Rented</th>\n",
       "      <th>Location of accommodation</th>\n",
       "      <th>Cost of your accommodation per month</th>\n",
       "      <th>Do you think accommodation prices are generally high in your State of residence for young adults?</th>\n",
       "      <th>Ratio of accomodation to income</th>\n",
       "    </tr>\n",
       "  </thead>\n",
       "  <tbody>\n",
       "    <tr>\n",
       "      <th>0</th>\n",
       "      <td>20/01/2021 07:57:57</td>\n",
       "      <td>24</td>\n",
       "      <td>Male</td>\n",
       "      <td>Bachelor's Degree/Equivalent</td>\n",
       "      <td>Nigeria</td>\n",
       "      <td>Lagos</td>\n",
       "      <td>Industrious</td>\n",
       "      <td>Naira</td>\n",
       "      <td>150000</td>\n",
       "      <td>Accounting &amp; Tech</td>\n",
       "      <td>1.0</td>\n",
       "      <td>Yes</td>\n",
       "      <td>NaN</td>\n",
       "      <td>Full Flat</td>\n",
       "      <td>Mid-class area</td>\n",
       "      <td>80000.000000</td>\n",
       "      <td>Yes</td>\n",
       "      <td>53.333333</td>\n",
       "    </tr>\n",
       "    <tr>\n",
       "      <th>1</th>\n",
       "      <td>20/01/2021 09:02:41</td>\n",
       "      <td>27</td>\n",
       "      <td>Female</td>\n",
       "      <td>Bachelor's Degree/Equivalent</td>\n",
       "      <td>Kenya</td>\n",
       "      <td>Nairobi</td>\n",
       "      <td>Most industrious in the country</td>\n",
       "      <td>Kenyan Shillings</td>\n",
       "      <td>150000</td>\n",
       "      <td>Software Engineer</td>\n",
       "      <td>3.0</td>\n",
       "      <td>Yes</td>\n",
       "      <td>NaN</td>\n",
       "      <td>Shared Flat</td>\n",
       "      <td>Mid-class area</td>\n",
       "      <td>35000.000000</td>\n",
       "      <td>Yes</td>\n",
       "      <td>23.333333</td>\n",
       "    </tr>\n",
       "    <tr>\n",
       "      <th>2</th>\n",
       "      <td>20/01/2021 09:07:23</td>\n",
       "      <td>25</td>\n",
       "      <td>Female</td>\n",
       "      <td>High/Secondary School</td>\n",
       "      <td>South Africa</td>\n",
       "      <td>Cape Town</td>\n",
       "      <td>Non-Industrious</td>\n",
       "      <td>Rand</td>\n",
       "      <td>2000</td>\n",
       "      <td>Hospitality</td>\n",
       "      <td>5.0</td>\n",
       "      <td>Yes</td>\n",
       "      <td>NaN</td>\n",
       "      <td>Shared Flat</td>\n",
       "      <td>Mid-class area</td>\n",
       "      <td>3500.000000</td>\n",
       "      <td>Yes</td>\n",
       "      <td>175.000000</td>\n",
       "    </tr>\n",
       "    <tr>\n",
       "      <th>3</th>\n",
       "      <td>20/01/2021 09:27:26</td>\n",
       "      <td>28</td>\n",
       "      <td>Female</td>\n",
       "      <td>Bachelor's Degree/Equivalent</td>\n",
       "      <td>Nigeria</td>\n",
       "      <td>Lagos</td>\n",
       "      <td>Most industrious in the country</td>\n",
       "      <td>Naira</td>\n",
       "      <td>0</td>\n",
       "      <td>IT</td>\n",
       "      <td>0.0</td>\n",
       "      <td>No</td>\n",
       "      <td>NaN</td>\n",
       "      <td>Neither. I do not pay rents</td>\n",
       "      <td>I do not pay rents</td>\n",
       "      <td>45628.378378</td>\n",
       "      <td>Yes</td>\n",
       "      <td>inf</td>\n",
       "    </tr>\n",
       "    <tr>\n",
       "      <th>4</th>\n",
       "      <td>20/01/2021 09:27:53</td>\n",
       "      <td>24</td>\n",
       "      <td>Female</td>\n",
       "      <td>Bachelor's Degree/Equivalent</td>\n",
       "      <td>Nigeria</td>\n",
       "      <td>Lagos</td>\n",
       "      <td>Industrious</td>\n",
       "      <td>Naira</td>\n",
       "      <td>70000</td>\n",
       "      <td>Tech</td>\n",
       "      <td>1.0</td>\n",
       "      <td>Not completely</td>\n",
       "      <td>1/4</td>\n",
       "      <td>Neither. I do not pay rents</td>\n",
       "      <td>Low brow area</td>\n",
       "      <td>45628.378378</td>\n",
       "      <td>Yes</td>\n",
       "      <td>65.183398</td>\n",
       "    </tr>\n",
       "  </tbody>\n",
       "</table>\n",
       "</div>"
      ],
      "text/plain": [
       "             Timestamp  Age  Gender    Maximum Level of Education  \\\n",
       "0  20/01/2021 07:57:57   24    Male  Bachelor's Degree/Equivalent   \n",
       "1  20/01/2021 09:02:41   27  Female  Bachelor's Degree/Equivalent   \n",
       "2  20/01/2021 09:07:23   25  Female         High/Secondary School   \n",
       "3  20/01/2021 09:27:26   28  Female  Bachelor's Degree/Equivalent   \n",
       "4  20/01/2021 09:27:53   24  Female  Bachelor's Degree/Equivalent   \n",
       "\n",
       "        Country State/Province                  How Industrious  \\\n",
       "0       Nigeria          Lagos                      Industrious   \n",
       "1         Kenya        Nairobi  Most industrious in the country   \n",
       "2  South Africa      Cape Town                  Non-Industrious   \n",
       "3       Nigeria          Lagos  Most industrious in the country   \n",
       "4       Nigeria          Lagos                      Industrious   \n",
       "\n",
       "           Currency  Monthly Salary in the currency you mentioned above  \\\n",
       "0             Naira                                             150000    \n",
       "1  Kenyan Shillings                                             150000    \n",
       "2              Rand                                               2000    \n",
       "3             Naira                                                  0    \n",
       "4             Naira                                              70000    \n",
       "\n",
       "     Career Industry  Years of working experience  \\\n",
       "0  Accounting & Tech                          1.0   \n",
       "1  Software Engineer                          3.0   \n",
       "2        Hospitality                          5.0   \n",
       "3                 IT                          0.0   \n",
       "4               Tech                          1.0   \n",
       "\n",
       "  Do you foot your accommodation bills?  \\\n",
       "0                                   Yes   \n",
       "1                                   Yes   \n",
       "2                                   Yes   \n",
       "3                                    No   \n",
       "4                        Not completely   \n",
       "\n",
       "  If you selected \"Not completely\", what fraction of the rent do you pay?  \\\n",
       "0                                                NaN                        \n",
       "1                                                NaN                        \n",
       "2                                                NaN                        \n",
       "3                                                NaN                        \n",
       "4                                                1/4                        \n",
       "\n",
       "          Accommodation Rented Location of accommodation  \\\n",
       "0                    Full Flat            Mid-class area   \n",
       "1                  Shared Flat            Mid-class area   \n",
       "2                  Shared Flat            Mid-class area   \n",
       "3  Neither. I do not pay rents        I do not pay rents   \n",
       "4  Neither. I do not pay rents             Low brow area   \n",
       "\n",
       "   Cost of your accommodation per month  \\\n",
       "0                          80000.000000   \n",
       "1                          35000.000000   \n",
       "2                           3500.000000   \n",
       "3                          45628.378378   \n",
       "4                          45628.378378   \n",
       "\n",
       "  Do you think accommodation prices are generally high in your State of residence for young adults?  \\\n",
       "0                                                Yes                                                  \n",
       "1                                                Yes                                                  \n",
       "2                                                Yes                                                  \n",
       "3                                                Yes                                                  \n",
       "4                                                Yes                                                  \n",
       "\n",
       "   Ratio of accomodation to income  \n",
       "0                        53.333333  \n",
       "1                        23.333333  \n",
       "2                       175.000000  \n",
       "3                              inf  \n",
       "4                        65.183398  "
      ]
     },
     "execution_count": 243,
     "metadata": {},
     "output_type": "execute_result"
    }
   ],
   "source": [
    "#Calculating the ratio of money spent on accomodation to income\n",
    "df[\"Ratio of accomodation to income\"] = (df[\"Cost of your accommodation per month\"]/df[\"Monthly Salary in the currency you mentioned above\"]) * 100\n",
    "df.head()\n",
    "\n"
   ]
  },
  {
   "cell_type": "code",
   "execution_count": 237,
   "metadata": {},
   "outputs": [
    {
     "data": {
      "text/plain": [
       "No                62\n",
       "Yes               39\n",
       "Not completely    20\n",
       "Name: Do you foot your accommodation bills?, dtype: int64"
      ]
     },
     "execution_count": 237,
     "metadata": {},
     "output_type": "execute_result"
    }
   ],
   "source": [
    "df[\"Do you foot your accommodation bills?\"].value_counts()"
   ]
  },
  {
   "cell_type": "code",
   "execution_count": 238,
   "metadata": {},
   "outputs": [
    {
     "data": {
      "text/plain": [
       "<matplotlib.axes._subplots.AxesSubplot at 0x172e8c8e108>"
      ]
     },
     "execution_count": 238,
     "metadata": {},
     "output_type": "execute_result"
    },
    {
     "data": {
      "image/png": "[encoded data removed]",
      "text/plain": [
       "<Figure size 1440x720 with 1 Axes>"
      ]
     },
     "metadata": {
      "needs_background": "light"
     },
     "output_type": "display_data"
    }
   ],
   "source": [
    "sns.countplot(df[\"Do you foot your accommodation bills?\"])"
   ]
  },
  {
   "cell_type": "code",
   "execution_count": 239,
   "metadata": {},
   "outputs": [
    {
     "data": {
      "text/plain": [
       "1/2                              8\n",
       "1/3                              8\n",
       "1/4                              7\n",
       "0                                2\n",
       "I do pay for my accommodation    1\n",
       "I don't pay                      1\n",
       "2/3                              1\n",
       "Name: If you selected \"Not completely\", what fraction of the rent do you pay?, dtype: int64"
      ]
     },
     "execution_count": 239,
     "metadata": {},
     "output_type": "execute_result"
    }
   ],
   "source": [
    "df['If you selected \"Not completely\", what fraction of the rent do you pay?'].value_counts()"
   ]
  },
  {
   "cell_type": "code",
   "execution_count": null,
   "metadata": {},
   "outputs": [],
   "source": [
    "#The results from the exploratory analysis shows that 78 females and 43 males participated in the survey. \n",
    "#The country with most participants is Nigeria with 177 participants out of the overall 121.\n",
    "# Most participants were 22 years old, and the smallest categories are those that are 18 years old. The ratio of income spent on accommodation was calculated. \n",
    "#It was observed that majority of the participants standing at 68, do not pay for their accommodation."
   ]
  },
  {
   "cell_type": "code",
   "execution_count": null,
   "metadata": {},
   "outputs": [],
   "source": []
  }
 ],
 "metadata": {
  "kernelspec": {
   "display_name": "Python 3",
   "language": "python",
   "name": "python3"
  },
  "language_info": {
   "codemirror_mode": {
    "name": "ipython",
    "version": 3
   },
   "file_extension": ".py",
   "mimetype": "text/x-python",
   "name": "python",
   "nbconvert_exporter": "python",
   "pygments_lexer": "ipython3",
   "version": "3.7.6"
  }
 },
 "nbformat": 4,
 "nbformat_minor": 4
}
