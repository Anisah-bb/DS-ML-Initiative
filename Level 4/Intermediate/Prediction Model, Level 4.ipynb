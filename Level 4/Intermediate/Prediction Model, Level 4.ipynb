{
  "nbformat": 4,
  "nbformat_minor": 0,
  "metadata": {
    "kernelspec": {
      "display_name": "Python 3",
      "language": "python",
      "name": "python3"
    },
    "language_info": {
      "codemirror_mode": {
        "name": "ipython",
        "version": 3
      },
      "file_extension": ".py",
      "mimetype": "text/x-python",
      "name": "python",
      "nbconvert_exporter": "python",
      "pygments_lexer": "ipython3",
      "version": "3.7.6"
    },
    "colab": {
      "name": "anisah.ipynb",
      "provenance": []
    }
  },
  "cells": [
    {
      "cell_type": "markdown",
      "metadata": {
        "id": "mEDKQG8kx6EH"
      },
      "source": [
        "This notebook is aimed at preparing and exploring health care data, drawing insights from the data, creating a predictive model and testing the model on a new data set. The dataset to be used contains admission data of patients icluding the length od stay. We would be predicting the length of stay using other parameters of the data set."
      ]
    },
    {
      "cell_type": "markdown",
      "metadata": {
        "id": "J6dD9DI9x6EW"
      },
      "source": [
        "First, I import the required modules."
      ]
    },
    {
      "cell_type": "code",
      "metadata": {
        "id": "Jvy2o8rjx6EY"
      },
      "source": [
        "import warnings\n",
        "import itertools\n",
        "import numpy as np\n",
        "import matplotlib.pyplot as plt\n",
        "warnings.filterwarnings('ignore')\n",
        "plt.style.use('fivethirtyeight')\n",
        "import pandas as pd\n",
        "%matplotlib inline\n",
        "import seaborn as sns \n",
        "import statsmodels.api as sm\n",
        "from sklearn.model_selection import train_test_split\n",
        "from sklearn.preprocessing import LabelEncoder\n",
        "from sklearn.preprocessing import OneHotEncoder\n",
        "import random\n",
        "from sklearn.ensemble import RandomForestClassifier\n",
        "from sklearn.ensemble import GradientBoostingClassifier"
      ],
      "execution_count": null,
      "outputs": []
    },
    {
      "cell_type": "markdown",
      "metadata": {
        "id": "O_2IYubCx6EZ"
      },
      "source": [
        "Then I read the data into a dataframe"
      ]
    },
    {
      "cell_type": "code",
      "metadata": {
        "id": "iGGGZcqsx6Ea"
      },
      "source": [
        "df_train = pd.read_csv('/train.csv')\n",
        "df_test = pd.read_csv('/test.csv')\n"
      ],
      "execution_count": 14,
      "outputs": []
    },
    {
      "cell_type": "markdown",
      "metadata": {
        "id": "SbGCoTesx6Eb"
      },
      "source": [
        "Then I move on to examining the data, check for columns, characteritics, data type and general statistics."
      ]
    },
    {
      "cell_type": "code",
      "metadata": {
        "id": "tZp72TFNx6Eb",
        "colab": {
          "base_uri": "https://localhost:8080/",
          "height": 360
        },
        "outputId": "a9f72100-dfd7-4fa4-ba69-e46132405920"
      },
      "source": [
        "df_train.head()"
      ],
      "execution_count": 15,
      "outputs": [
        {
          "output_type": "execute_result",
          "data": {
            "text/html": [
              "<div>\n",
              "<style scoped>\n",
              "    .dataframe tbody tr th:only-of-type {\n",
              "        vertical-align: middle;\n",
              "    }\n",
              "\n",
              "    .dataframe tbody tr th {\n",
              "        vertical-align: top;\n",
              "    }\n",
              "\n",
              "    .dataframe thead th {\n",
              "        text-align: right;\n",
              "    }\n",
              "</style>\n",
              "<table border=\"1\" class=\"dataframe\">\n",
              "  <thead>\n",
              "    <tr style=\"text-align: right;\">\n",
              "      <th></th>\n",
              "      <th>case_id</th>\n",
              "      <th>Hospital_code</th>\n",
              "      <th>Hospital_type_code</th>\n",
              "      <th>City_Code_Hospital</th>\n",
              "      <th>Hospital_region_code</th>\n",
              "      <th>Available Extra Rooms in Hospital</th>\n",
              "      <th>Department</th>\n",
              "      <th>Ward_Type</th>\n",
              "      <th>Ward_Facility_Code</th>\n",
              "      <th>Bed Grade</th>\n",
              "      <th>patientid</th>\n",
              "      <th>City_Code_Patient</th>\n",
              "      <th>Type of Admission</th>\n",
              "      <th>Severity of Illness</th>\n",
              "      <th>Visitors with Patient</th>\n",
              "      <th>Age</th>\n",
              "      <th>Admission_Deposit</th>\n",
              "      <th>Stay</th>\n",
              "    </tr>\n",
              "  </thead>\n",
              "  <tbody>\n",
              "    <tr>\n",
              "      <th>0</th>\n",
              "      <td>1</td>\n",
              "      <td>8</td>\n",
              "      <td>c</td>\n",
              "      <td>3</td>\n",
              "      <td>Z</td>\n",
              "      <td>3</td>\n",
              "      <td>radiotherapy</td>\n",
              "      <td>R</td>\n",
              "      <td>F</td>\n",
              "      <td>2.0</td>\n",
              "      <td>31397</td>\n",
              "      <td>7.0</td>\n",
              "      <td>Emergency</td>\n",
              "      <td>Extreme</td>\n",
              "      <td>2</td>\n",
              "      <td>51-60</td>\n",
              "      <td>4911.0</td>\n",
              "      <td>0-10</td>\n",
              "    </tr>\n",
              "    <tr>\n",
              "      <th>1</th>\n",
              "      <td>2</td>\n",
              "      <td>2</td>\n",
              "      <td>c</td>\n",
              "      <td>5</td>\n",
              "      <td>Z</td>\n",
              "      <td>2</td>\n",
              "      <td>radiotherapy</td>\n",
              "      <td>S</td>\n",
              "      <td>F</td>\n",
              "      <td>2.0</td>\n",
              "      <td>31397</td>\n",
              "      <td>7.0</td>\n",
              "      <td>Trauma</td>\n",
              "      <td>Extreme</td>\n",
              "      <td>2</td>\n",
              "      <td>51-60</td>\n",
              "      <td>5954.0</td>\n",
              "      <td>41-50</td>\n",
              "    </tr>\n",
              "    <tr>\n",
              "      <th>2</th>\n",
              "      <td>3</td>\n",
              "      <td>10</td>\n",
              "      <td>e</td>\n",
              "      <td>1</td>\n",
              "      <td>X</td>\n",
              "      <td>2</td>\n",
              "      <td>anesthesia</td>\n",
              "      <td>S</td>\n",
              "      <td>E</td>\n",
              "      <td>2.0</td>\n",
              "      <td>31397</td>\n",
              "      <td>7.0</td>\n",
              "      <td>Trauma</td>\n",
              "      <td>Extreme</td>\n",
              "      <td>2</td>\n",
              "      <td>51-60</td>\n",
              "      <td>4745.0</td>\n",
              "      <td>31-40</td>\n",
              "    </tr>\n",
              "    <tr>\n",
              "      <th>3</th>\n",
              "      <td>4</td>\n",
              "      <td>26</td>\n",
              "      <td>b</td>\n",
              "      <td>2</td>\n",
              "      <td>Y</td>\n",
              "      <td>2</td>\n",
              "      <td>radiotherapy</td>\n",
              "      <td>R</td>\n",
              "      <td>D</td>\n",
              "      <td>2.0</td>\n",
              "      <td>31397</td>\n",
              "      <td>7.0</td>\n",
              "      <td>Trauma</td>\n",
              "      <td>Extreme</td>\n",
              "      <td>2</td>\n",
              "      <td>51-60</td>\n",
              "      <td>7272.0</td>\n",
              "      <td>41-50</td>\n",
              "    </tr>\n",
              "    <tr>\n",
              "      <th>4</th>\n",
              "      <td>5</td>\n",
              "      <td>26</td>\n",
              "      <td>b</td>\n",
              "      <td>2</td>\n",
              "      <td>Y</td>\n",
              "      <td>2</td>\n",
              "      <td>radiotherapy</td>\n",
              "      <td>S</td>\n",
              "      <td>D</td>\n",
              "      <td>2.0</td>\n",
              "      <td>31397</td>\n",
              "      <td>7.0</td>\n",
              "      <td>Trauma</td>\n",
              "      <td>Extreme</td>\n",
              "      <td>2</td>\n",
              "      <td>51-60</td>\n",
              "      <td>5558.0</td>\n",
              "      <td>41-50</td>\n",
              "    </tr>\n",
              "  </tbody>\n",
              "</table>\n",
              "</div>"
            ],
            "text/plain": [
              "   case_id  Hospital_code Hospital_type_code  ...    Age Admission_Deposit   Stay\n",
              "0        1              8                  c  ...  51-60            4911.0   0-10\n",
              "1        2              2                  c  ...  51-60            5954.0  41-50\n",
              "2        3             10                  e  ...  51-60            4745.0  31-40\n",
              "3        4             26                  b  ...  51-60            7272.0  41-50\n",
              "4        5             26                  b  ...  51-60            5558.0  41-50\n",
              "\n",
              "[5 rows x 18 columns]"
            ]
          },
          "metadata": {
            "tags": []
          },
          "execution_count": 15
        }
      ]
    },
    {
      "cell_type": "code",
      "metadata": {
        "id": "2OQmeMWyx6Ee",
        "colab": {
          "base_uri": "https://localhost:8080/"
        },
        "outputId": "788d1d16-4cb8-4fef-c88f-08bb3582415c"
      },
      "source": [
        "df_train.info()"
      ],
      "execution_count": 16,
      "outputs": [
        {
          "output_type": "stream",
          "text": [
            "<class 'pandas.core.frame.DataFrame'>\n",
            "RangeIndex: 318438 entries, 0 to 318437\n",
            "Data columns (total 18 columns):\n",
            " #   Column                             Non-Null Count   Dtype  \n",
            "---  ------                             --------------   -----  \n",
            " 0   case_id                            318438 non-null  int64  \n",
            " 1   Hospital_code                      318438 non-null  int64  \n",
            " 2   Hospital_type_code                 318438 non-null  object \n",
            " 3   City_Code_Hospital                 318438 non-null  int64  \n",
            " 4   Hospital_region_code               318438 non-null  object \n",
            " 5   Available Extra Rooms in Hospital  318438 non-null  int64  \n",
            " 6   Department                         318438 non-null  object \n",
            " 7   Ward_Type                          318438 non-null  object \n",
            " 8   Ward_Facility_Code                 318438 non-null  object \n",
            " 9   Bed Grade                          318325 non-null  float64\n",
            " 10  patientid                          318438 non-null  int64  \n",
            " 11  City_Code_Patient                  313906 non-null  float64\n",
            " 12  Type of Admission                  318438 non-null  object \n",
            " 13  Severity of Illness                318438 non-null  object \n",
            " 14  Visitors with Patient              318438 non-null  int64  \n",
            " 15  Age                                318438 non-null  object \n",
            " 16  Admission_Deposit                  318438 non-null  float64\n",
            " 17  Stay                               318438 non-null  object \n",
            "dtypes: float64(3), int64(6), object(9)\n",
            "memory usage: 43.7+ MB\n"
          ],
          "name": "stdout"
        }
      ]
    },
    {
      "cell_type": "code",
      "metadata": {
        "scrolled": true,
        "id": "hXehSWZMx6Ef",
        "colab": {
          "base_uri": "https://localhost:8080/",
          "height": 351
        },
        "outputId": "662ed420-7bfc-44d0-99bd-945d47bf4aff"
      },
      "source": [
        "df_train.describe()"
      ],
      "execution_count": 17,
      "outputs": [
        {
          "output_type": "execute_result",
          "data": {
            "text/html": [
              "<div>\n",
              "<style scoped>\n",
              "    .dataframe tbody tr th:only-of-type {\n",
              "        vertical-align: middle;\n",
              "    }\n",
              "\n",
              "    .dataframe tbody tr th {\n",
              "        vertical-align: top;\n",
              "    }\n",
              "\n",
              "    .dataframe thead th {\n",
              "        text-align: right;\n",
              "    }\n",
              "</style>\n",
              "<table border=\"1\" class=\"dataframe\">\n",
              "  <thead>\n",
              "    <tr style=\"text-align: right;\">\n",
              "      <th></th>\n",
              "      <th>case_id</th>\n",
              "      <th>Hospital_code</th>\n",
              "      <th>City_Code_Hospital</th>\n",
              "      <th>Available Extra Rooms in Hospital</th>\n",
              "      <th>Bed Grade</th>\n",
              "      <th>patientid</th>\n",
              "      <th>City_Code_Patient</th>\n",
              "      <th>Visitors with Patient</th>\n",
              "      <th>Admission_Deposit</th>\n",
              "    </tr>\n",
              "  </thead>\n",
              "  <tbody>\n",
              "    <tr>\n",
              "      <th>count</th>\n",
              "      <td>318438.000000</td>\n",
              "      <td>318438.000000</td>\n",
              "      <td>318438.000000</td>\n",
              "      <td>318438.000000</td>\n",
              "      <td>318325.000000</td>\n",
              "      <td>318438.000000</td>\n",
              "      <td>313906.000000</td>\n",
              "      <td>318438.000000</td>\n",
              "      <td>318438.000000</td>\n",
              "    </tr>\n",
              "    <tr>\n",
              "      <th>mean</th>\n",
              "      <td>159219.500000</td>\n",
              "      <td>18.318841</td>\n",
              "      <td>4.771717</td>\n",
              "      <td>3.197627</td>\n",
              "      <td>2.625807</td>\n",
              "      <td>65747.579472</td>\n",
              "      <td>7.251859</td>\n",
              "      <td>3.284099</td>\n",
              "      <td>4880.749392</td>\n",
              "    </tr>\n",
              "    <tr>\n",
              "      <th>std</th>\n",
              "      <td>91925.276847</td>\n",
              "      <td>8.633755</td>\n",
              "      <td>3.102535</td>\n",
              "      <td>1.168171</td>\n",
              "      <td>0.873146</td>\n",
              "      <td>37979.936440</td>\n",
              "      <td>4.745266</td>\n",
              "      <td>1.764061</td>\n",
              "      <td>1086.776254</td>\n",
              "    </tr>\n",
              "    <tr>\n",
              "      <th>min</th>\n",
              "      <td>1.000000</td>\n",
              "      <td>1.000000</td>\n",
              "      <td>1.000000</td>\n",
              "      <td>0.000000</td>\n",
              "      <td>1.000000</td>\n",
              "      <td>1.000000</td>\n",
              "      <td>1.000000</td>\n",
              "      <td>0.000000</td>\n",
              "      <td>1800.000000</td>\n",
              "    </tr>\n",
              "    <tr>\n",
              "      <th>25%</th>\n",
              "      <td>79610.250000</td>\n",
              "      <td>11.000000</td>\n",
              "      <td>2.000000</td>\n",
              "      <td>2.000000</td>\n",
              "      <td>2.000000</td>\n",
              "      <td>32847.000000</td>\n",
              "      <td>4.000000</td>\n",
              "      <td>2.000000</td>\n",
              "      <td>4186.000000</td>\n",
              "    </tr>\n",
              "    <tr>\n",
              "      <th>50%</th>\n",
              "      <td>159219.500000</td>\n",
              "      <td>19.000000</td>\n",
              "      <td>5.000000</td>\n",
              "      <td>3.000000</td>\n",
              "      <td>3.000000</td>\n",
              "      <td>65724.500000</td>\n",
              "      <td>8.000000</td>\n",
              "      <td>3.000000</td>\n",
              "      <td>4741.000000</td>\n",
              "    </tr>\n",
              "    <tr>\n",
              "      <th>75%</th>\n",
              "      <td>238828.750000</td>\n",
              "      <td>26.000000</td>\n",
              "      <td>7.000000</td>\n",
              "      <td>4.000000</td>\n",
              "      <td>3.000000</td>\n",
              "      <td>98470.000000</td>\n",
              "      <td>8.000000</td>\n",
              "      <td>4.000000</td>\n",
              "      <td>5409.000000</td>\n",
              "    </tr>\n",
              "    <tr>\n",
              "      <th>max</th>\n",
              "      <td>318438.000000</td>\n",
              "      <td>32.000000</td>\n",
              "      <td>13.000000</td>\n",
              "      <td>24.000000</td>\n",
              "      <td>4.000000</td>\n",
              "      <td>131624.000000</td>\n",
              "      <td>38.000000</td>\n",
              "      <td>32.000000</td>\n",
              "      <td>11008.000000</td>\n",
              "    </tr>\n",
              "  </tbody>\n",
              "</table>\n",
              "</div>"
            ],
            "text/plain": [
              "             case_id  Hospital_code  ...  Visitors with Patient  Admission_Deposit\n",
              "count  318438.000000  318438.000000  ...          318438.000000      318438.000000\n",
              "mean   159219.500000      18.318841  ...               3.284099        4880.749392\n",
              "std     91925.276847       8.633755  ...               1.764061        1086.776254\n",
              "min         1.000000       1.000000  ...               0.000000        1800.000000\n",
              "25%     79610.250000      11.000000  ...               2.000000        4186.000000\n",
              "50%    159219.500000      19.000000  ...               3.000000        4741.000000\n",
              "75%    238828.750000      26.000000  ...               4.000000        5409.000000\n",
              "max    318438.000000      32.000000  ...              32.000000       11008.000000\n",
              "\n",
              "[8 rows x 9 columns]"
            ]
          },
          "metadata": {
            "tags": []
          },
          "execution_count": 17
        }
      ]
    },
    {
      "cell_type": "code",
      "metadata": {
        "id": "RNdaLdDZx6Eg",
        "colab": {
          "base_uri": "https://localhost:8080/"
        },
        "outputId": "bb7b3fca-72c6-415a-90e7-964b2aa3d7ee"
      },
      "source": [
        "# checking for data types\n",
        "df_train.dtypes"
      ],
      "execution_count": 18,
      "outputs": [
        {
          "output_type": "execute_result",
          "data": {
            "text/plain": [
              "case_id                                int64\n",
              "Hospital_code                          int64\n",
              "Hospital_type_code                    object\n",
              "City_Code_Hospital                     int64\n",
              "Hospital_region_code                  object\n",
              "Available Extra Rooms in Hospital      int64\n",
              "Department                            object\n",
              "Ward_Type                             object\n",
              "Ward_Facility_Code                    object\n",
              "Bed Grade                            float64\n",
              "patientid                              int64\n",
              "City_Code_Patient                    float64\n",
              "Type of Admission                     object\n",
              "Severity of Illness                   object\n",
              "Visitors with Patient                  int64\n",
              "Age                                   object\n",
              "Admission_Deposit                    float64\n",
              "Stay                                  object\n",
              "dtype: object"
            ]
          },
          "metadata": {
            "tags": []
          },
          "execution_count": 18
        }
      ]
    },
    {
      "cell_type": "code",
      "metadata": {
        "id": "hfkf1_Aax6Ei",
        "colab": {
          "base_uri": "https://localhost:8080/"
        },
        "outputId": "665df34e-398c-437d-e64e-82db0595b233"
      },
      "source": [
        "#checking for null values\n",
        "df_train.isnull().sum()"
      ],
      "execution_count": 19,
      "outputs": [
        {
          "output_type": "execute_result",
          "data": {
            "text/plain": [
              "case_id                                 0\n",
              "Hospital_code                           0\n",
              "Hospital_type_code                      0\n",
              "City_Code_Hospital                      0\n",
              "Hospital_region_code                    0\n",
              "Available Extra Rooms in Hospital       0\n",
              "Department                              0\n",
              "Ward_Type                               0\n",
              "Ward_Facility_Code                      0\n",
              "Bed Grade                             113\n",
              "patientid                               0\n",
              "City_Code_Patient                    4532\n",
              "Type of Admission                       0\n",
              "Severity of Illness                     0\n",
              "Visitors with Patient                   0\n",
              "Age                                     0\n",
              "Admission_Deposit                       0\n",
              "Stay                                    0\n",
              "dtype: int64"
            ]
          },
          "metadata": {
            "tags": []
          },
          "execution_count": 19
        }
      ]
    },
    {
      "cell_type": "code",
      "metadata": {
        "id": "6id6q6Njx6Ej",
        "colab": {
          "base_uri": "https://localhost:8080/"
        },
        "outputId": "d43c9b6d-adbb-4fc6-ba97-9ca735efad12"
      },
      "source": [
        "df_train.columns"
      ],
      "execution_count": 20,
      "outputs": [
        {
          "output_type": "execute_result",
          "data": {
            "text/plain": [
              "Index(['case_id', 'Hospital_code', 'Hospital_type_code', 'City_Code_Hospital',\n",
              "       'Hospital_region_code', 'Available Extra Rooms in Hospital',\n",
              "       'Department', 'Ward_Type', 'Ward_Facility_Code', 'Bed Grade',\n",
              "       'patientid', 'City_Code_Patient', 'Type of Admission',\n",
              "       'Severity of Illness', 'Visitors with Patient', 'Age',\n",
              "       'Admission_Deposit', 'Stay'],\n",
              "      dtype='object')"
            ]
          },
          "metadata": {
            "tags": []
          },
          "execution_count": 20
        }
      ]
    },
    {
      "cell_type": "code",
      "metadata": {
        "id": "e_2LdbmMx6Ek",
        "colab": {
          "base_uri": "https://localhost:8080/"
        },
        "outputId": "82446dd8-671c-4ca5-d266-a3b532f6d52c"
      },
      "source": [
        "#getting the distribution of values in the bed grade column\n",
        "df_train['Bed Grade'].value_counts()"
      ],
      "execution_count": 21,
      "outputs": [
        {
          "output_type": "execute_result",
          "data": {
            "text/plain": [
              "2.0    123671\n",
              "3.0    110583\n",
              "4.0     57566\n",
              "1.0     26505\n",
              "Name: Bed Grade, dtype: int64"
            ]
          },
          "metadata": {
            "tags": []
          },
          "execution_count": 21
        }
      ]
    },
    {
      "cell_type": "code",
      "metadata": {
        "id": "9MSDFKpFx6Ek"
      },
      "source": [
        "#filling all null values with the mode\n",
        "df_train['Bed Grade'].fillna(2.0, inplace=True)"
      ],
      "execution_count": 22,
      "outputs": []
    },
    {
      "cell_type": "code",
      "metadata": {
        "id": "S4ckuK4qx6El"
      },
      "source": [
        "#filling the missing values\n",
        "df_train = df_train.fillna(df_train['City_Code_Patient'].value_counts().index[0])\n"
      ],
      "execution_count": 23,
      "outputs": []
    },
    {
      "cell_type": "markdown",
      "metadata": {
        "id": "gr6_ykcTx6El"
      },
      "source": [
        "Now I confirm if all null values have been treated"
      ]
    },
    {
      "cell_type": "code",
      "metadata": {
        "id": "N4SrnCspx6Em",
        "colab": {
          "base_uri": "https://localhost:8080/"
        },
        "outputId": "ec96a5ea-21a0-4e6f-d1a7-4d539e1bf258"
      },
      "source": [
        "df_train.isnull().sum()"
      ],
      "execution_count": 24,
      "outputs": [
        {
          "output_type": "execute_result",
          "data": {
            "text/plain": [
              "case_id                              0\n",
              "Hospital_code                        0\n",
              "Hospital_type_code                   0\n",
              "City_Code_Hospital                   0\n",
              "Hospital_region_code                 0\n",
              "Available Extra Rooms in Hospital    0\n",
              "Department                           0\n",
              "Ward_Type                            0\n",
              "Ward_Facility_Code                   0\n",
              "Bed Grade                            0\n",
              "patientid                            0\n",
              "City_Code_Patient                    0\n",
              "Type of Admission                    0\n",
              "Severity of Illness                  0\n",
              "Visitors with Patient                0\n",
              "Age                                  0\n",
              "Admission_Deposit                    0\n",
              "Stay                                 0\n",
              "dtype: int64"
            ]
          },
          "metadata": {
            "tags": []
          },
          "execution_count": 24
        }
      ]
    },
    {
      "cell_type": "markdown",
      "metadata": {
        "id": "AqSQZmohx6Em"
      },
      "source": [
        "Visualizing the different parmeters"
      ]
    },
    {
      "cell_type": "code",
      "metadata": {
        "id": "xpQwg2O_x6En",
        "colab": {
          "base_uri": "https://localhost:8080/",
          "height": 253
        },
        "outputId": "f3048018-f3d0-4e98-a0dd-f504f986f99d"
      },
      "source": [
        "labels = df_train['Hospital_type_code'].astype('category').cat.categories.tolist()\n",
        "counts = df_train['Hospital_type_code'].value_counts()\n",
        "sizes = [counts[var_cat] for var_cat in labels]\n",
        "fig1, ax1 = plt.subplots()\n",
        "ax1.pie(sizes, labels=labels, autopct='%1.1f%%', shadow=True) #autopct is show the % on plot\n",
        "ax1.axis('equal')\n",
        "plt.show()"
      ],
      "execution_count": 25,
      "outputs": [
        {
          "output_type": "display_data",
          "data": {
            "image/png": "[encoded data removed]",
            "text/plain": [
              "<Figure size 432x288 with 1 Axes>"
            ]
          },
          "metadata": {
            "tags": []
          }
        }
      ]
    },
    {
      "cell_type": "markdown",
      "metadata": {
        "id": "lUqK61Oyx6Eo"
      },
      "source": [
        "The pie chart shows that Hospital_type_code a occurs the most at 45%, while g represents the smallest \n",
        "percentge of the hospital_type_code"
      ]
    },
    {
      "cell_type": "markdown",
      "metadata": {
        "id": "-prts69Fx6Eo"
      },
      "source": [
        "More visualization of the different categorical variables are displayed."
      ]
    },
    {
      "cell_type": "code",
      "metadata": {
        "id": "-AFrdsuQx6Ep",
        "colab": {
          "base_uri": "https://localhost:8080/",
          "height": 301
        },
        "outputId": "4a2da5e1-756a-499a-a037-f761572e6c90"
      },
      "source": [
        "Hospital_code_count = df_train['Hospital_code'].value_counts()\n",
        "sns.set(style=\"darkgrid\")\n",
        "sns.barplot(Hospital_code_count.index, Hospital_code_count.values, alpha=0.9)\n",
        "plt.title('Frequency Distribution of Hospital code')\n",
        "plt.ylabel('Number of Occurrences', fontsize=12)\n",
        "plt.xlabel('Hospital_code', fontsize=12)\n",
        "plt.show()"
      ],
      "execution_count": 26,
      "outputs": [
        {
          "output_type": "display_data",
          "data": {
            "image/png": "[encoded data removed]",
            "text/plain": [
              "<Figure size 432x288 with 1 Axes>"
            ]
          },
          "metadata": {
            "tags": []
          }
        }
      ]
    },
    {
      "cell_type": "code",
      "metadata": {
        "id": "2iFE8p35x6Ep",
        "colab": {
          "base_uri": "https://localhost:8080/",
          "height": 248
        },
        "outputId": "5cc6d73e-fd3c-48e9-b7b6-f3fc601cdc82"
      },
      "source": [
        "labels = df_train['Hospital_region_code'].astype('category').cat.categories.tolist()\n",
        "counts = df_train['Hospital_region_code'].value_counts()\n",
        "sizes = [counts[var_cat] for var_cat in labels]\n",
        "fig1, ax1 = plt.subplots()\n",
        "ax1.pie(sizes, labels=labels, autopct='%1.1f%%', shadow=True) #autopct is show the % on plot\n",
        "ax1.axis('equal')\n",
        "plt.show()"
      ],
      "execution_count": 27,
      "outputs": [
        {
          "output_type": "display_data",
          "data": {
            "image/png": "[encoded data removed]",
            "text/plain": [
              "<Figure size 432x288 with 1 Axes>"
            ]
          },
          "metadata": {
            "tags": []
          }
        }
      ]
    },
    {
      "cell_type": "code",
      "metadata": {
        "id": "pA0FcPbtx6Eq",
        "colab": {
          "base_uri": "https://localhost:8080/",
          "height": 301
        },
        "outputId": "8705111c-6bde-44c7-bcd2-2a7ed4c74c2a"
      },
      "source": [
        "Type_of_Admission_count = df_train['Type of Admission'].value_counts()\n",
        "sns.set(style=\"darkgrid\")\n",
        "sns.barplot(Type_of_Admission_count.index, Type_of_Admission_count.values, alpha=0.9)\n",
        "plt.title('Frequency Distribution of Type of Admission')\n",
        "plt.ylabel('Number of Occurrences', fontsize=12)\n",
        "plt.xlabel('Type of Admission', fontsize=12)\n",
        "plt.show()"
      ],
      "execution_count": 28,
      "outputs": [
        {
          "output_type": "display_data",
          "data": {
            "image/png": "[encoded data removed]",
            "text/plain": [
              "<Figure size 432x288 with 1 Axes>"
            ]
          },
          "metadata": {
            "tags": []
          }
        }
      ]
    },
    {
      "cell_type": "code",
      "metadata": {
        "id": "kmdzsSLox6Er",
        "colab": {
          "base_uri": "https://localhost:8080/",
          "height": 248
        },
        "outputId": "e71a298d-5f9c-4eed-a708-63e390b58e77"
      },
      "source": [
        "labels = df_train['Type of Admission'].astype('category').cat.categories.tolist()\n",
        "counts = df_train['Type of Admission'].value_counts()\n",
        "sizes = [counts[var_cat] for var_cat in labels]\n",
        "fig1, ax1 = plt.subplots()\n",
        "ax1.pie(sizes, labels=labels, autopct='%1.1f%%', shadow=True) #autopct is show the % on plot\n",
        "ax1.axis('equal')\n",
        "plt.show()"
      ],
      "execution_count": 29,
      "outputs": [
        {
          "output_type": "display_data",
          "data": {
            "image/png": "[encoded data removed]",
            "text/plain": [
              "<Figure size 432x288 with 1 Axes>"
            ]
          },
          "metadata": {
            "tags": []
          }
        }
      ]
    },
    {
      "cell_type": "code",
      "metadata": {
        "id": "_K1kUGrSx6Er",
        "colab": {
          "base_uri": "https://localhost:8080/",
          "height": 301
        },
        "outputId": "7bf1a2f5-1c13-4716-85b0-a1ceda59cf9e"
      },
      "source": [
        "Department_count = df_train['Department'].value_counts()\n",
        "sns.set(style=\"darkgrid\")\n",
        "sns.barplot(Department_count.index, Department_count.values, alpha=0.9)\n",
        "plt.title('Frequency Distribution of Department')\n",
        "plt.ylabel('Number of Occurrences', fontsize=12)\n",
        "plt.xlabel('Department', fontsize=12)\n",
        "plt.show()"
      ],
      "execution_count": 30,
      "outputs": [
        {
          "output_type": "display_data",
          "data": {
            "image/png": "[encoded data removed]",
            "text/plain": [
              "<Figure size 432x288 with 1 Axes>"
            ]
          },
          "metadata": {
            "tags": []
          }
        }
      ]
    },
    {
      "cell_type": "code",
      "metadata": {
        "id": "ou1aDBP4x6Es",
        "colab": {
          "base_uri": "https://localhost:8080/",
          "height": 301
        },
        "outputId": "587c3a6b-1973-48b1-a87f-07071cc8366b"
      },
      "source": [
        "Severity_of_Illness_count = df_train['Severity of Illness'].value_counts()\n",
        "sns.set(style=\"darkgrid\")\n",
        "sns.barplot(Severity_of_Illness_count.index, Severity_of_Illness_count.values, alpha=0.9)\n",
        "plt.title('Frequency Distribution of Severity of Illness')\n",
        "plt.ylabel('Number of Occurrences', fontsize=12)\n",
        "plt.xlabel('Severity of Illness', fontsize=12)\n",
        "plt.show()"
      ],
      "execution_count": 31,
      "outputs": [
        {
          "output_type": "display_data",
          "data": {
            "image/png": "[encoded data removed]",
            "text/plain": [
              "<Figure size 432x288 with 1 Axes>"
            ]
          },
          "metadata": {
            "tags": []
          }
        }
      ]
    },
    {
      "cell_type": "code",
      "metadata": {
        "id": "_AtNPSyBx6Et",
        "colab": {
          "base_uri": "https://localhost:8080/",
          "height": 301
        },
        "outputId": "7d22a086-ea06-40c8-8972-8b536d34fdfe"
      },
      "source": [
        "Available_Extra_Rooms_in_Hospital_count = df_train['Available Extra Rooms in Hospital'].value_counts()\n",
        "sns.set(style=\"darkgrid\")\n",
        "sns.barplot(Available_Extra_Rooms_in_Hospital_count.index, Available_Extra_Rooms_in_Hospital_count.values, alpha=0.9)\n",
        "plt.title('Frequency Distribution of Available Extra Rooms in Hospital')\n",
        "plt.ylabel('Number of Occurrences', fontsize=12)\n",
        "plt.xlabel('Available Extra Rooms in Hospital', fontsize=12)\n",
        "plt.show()"
      ],
      "execution_count": 32,
      "outputs": [
        {
          "output_type": "display_data",
          "data": {
            "image/png": "[encoded data removed]",
            "text/plain": [
              "<Figure size 432x288 with 1 Axes>"
            ]
          },
          "metadata": {
            "tags": []
          }
        }
      ]
    },
    {
      "cell_type": "code",
      "metadata": {
        "id": "eUSSf1Dhx6Et",
        "colab": {
          "base_uri": "https://localhost:8080/",
          "height": 250
        },
        "outputId": "0362396d-35b0-473b-b856-34124a082e2d"
      },
      "source": [
        "labels = df_train['Bed Grade'].astype('category').cat.categories.tolist()\n",
        "counts = df_train['Bed Grade'].value_counts()\n",
        "sizes = [counts[var_cat] for var_cat in labels]\n",
        "fig1, ax1 = plt.subplots()\n",
        "ax1.pie(sizes, labels=labels, autopct='%1.1f%%', shadow=True) #autopct is show the % on plot\n",
        "ax1.axis('equal')\n",
        "plt.show()"
      ],
      "execution_count": 33,
      "outputs": [
        {
          "output_type": "display_data",
          "data": {
            "image/png": "[encoded data removed]",
            "text/plain": [
              "<Figure size 432x288 with 1 Axes>"
            ]
          },
          "metadata": {
            "tags": []
          }
        }
      ]
    },
    {
      "cell_type": "code",
      "metadata": {
        "id": "Y0vMOdbax6Eu",
        "colab": {
          "base_uri": "https://localhost:8080/",
          "height": 301
        },
        "outputId": "9aed6525-14c9-484d-d2fc-8a265a768140"
      },
      "source": [
        "Visitors_with_Patient_count = df_train['Visitors with Patient'].value_counts()\n",
        "sns.set(style=\"darkgrid\")\n",
        "sns.barplot(Visitors_with_Patient_count.index,Visitors_with_Patient_count.values, alpha=0.9)\n",
        "plt.title('Frequency Distribution ofVisitors with Patient')\n",
        "plt.ylabel('Number of Occurrences', fontsize=12)\n",
        "plt.xlabel('Visitors with Patient', fontsize=12)\n",
        "plt.show()"
      ],
      "execution_count": 34,
      "outputs": [
        {
          "output_type": "display_data",
          "data": {
            "image/png": "[encoded data removed]",
            "text/plain": [
              "<Figure size 432x288 with 1 Axes>"
            ]
          },
          "metadata": {
            "tags": []
          }
        }
      ]
    },
    {
      "cell_type": "code",
      "metadata": {
        "id": "YuZSIMKNx6Ev",
        "colab": {
          "base_uri": "https://localhost:8080/",
          "height": 301
        },
        "outputId": "a6bb055e-f7a1-43ff-a074-889236809625"
      },
      "source": [
        "Age_count = df_train['Age'].value_counts()\n",
        "sns.set(style=\"darkgrid\")\n",
        "sns.barplot(Age_count.index, Age_count.values, alpha=0.9)\n",
        "plt.title('Frequency Distribution of Age')\n",
        "plt.ylabel('Number of Occurrences', fontsize=12)\n",
        "plt.xlabel('Age', fontsize=12)\n",
        "plt.show()"
      ],
      "execution_count": 35,
      "outputs": [
        {
          "output_type": "display_data",
          "data": {
            "image/png": "[encoded data removed]",
            "text/plain": [
              "<Figure size 432x288 with 1 Axes>"
            ]
          },
          "metadata": {
            "tags": []
          }
        }
      ]
    },
    {
      "cell_type": "markdown",
      "metadata": {
        "id": "ktQEaoo0x6Ew"
      },
      "source": [
        "Finally, the target variable is visualied below"
      ]
    },
    {
      "cell_type": "code",
      "metadata": {
        "id": "2Lqeu4WXx6Ey",
        "colab": {
          "base_uri": "https://localhost:8080/",
          "height": 247
        },
        "outputId": "13c96da3-3f98-4b4c-c14a-35ca2ee0adea"
      },
      "source": [
        "f, ax = plt.subplots(figsize=(7, 3))\n",
        "sns.countplot(y=\"Stay\", data=df_train, color=\"c\")"
      ],
      "execution_count": 36,
      "outputs": [
        {
          "output_type": "execute_result",
          "data": {
            "text/plain": [
              "<matplotlib.axes._subplots.AxesSubplot at 0x7f40a184ccd0>"
            ]
          },
          "metadata": {
            "tags": []
          },
          "execution_count": 36
        },
        {
          "output_type": "display_data",
          "data": {
            "image/png": "[encoded data removed]",
            "text/plain": [
              "<Figure size 504x216 with 1 Axes>"
            ]
          },
          "metadata": {
            "tags": []
          }
        }
      ]
    },
    {
      "cell_type": "markdown",
      "metadata": {
        "id": "l2Wv6_TVCAmj"
      },
      "source": [
        "Selecting the columns for prediction and the target variable."
      ]
    },
    {
      "cell_type": "code",
      "metadata": {
        "id": "92sbRfe3x6E0"
      },
      "source": [
        "X = df_train[['Hospital_code', 'Type of Admission', 'Department', 'Severity of Illness', 'Available Extra Rooms in Hospital', 'Bed Grade', 'Visitors with Patient', 'Age']]\n",
        "y = df_train[[\"Stay\"]]"
      ],
      "execution_count": 44,
      "outputs": []
    },
    {
      "cell_type": "markdown",
      "metadata": {
        "id": "q9MnIS9Mx6Ez"
      },
      "source": [
        "To make it possible for model creation, the columns are tranformed"
      ]
    },
    {
      "cell_type": "code",
      "metadata": {
        "id": "Cad1XkmEx6E1"
      },
      "source": [
        "X = X.apply(LabelEncoder().fit_transform)"
      ],
      "execution_count": 38,
      "outputs": []
    },
    {
      "cell_type": "code",
      "metadata": {
        "id": "8yiQvHJdx6E1",
        "colab": {
          "base_uri": "https://localhost:8080/",
          "height": 221
        },
        "outputId": "9677ca24-c83b-4f88-f4be-ec5e16bb2a39"
      },
      "source": [
        "X.head()"
      ],
      "execution_count": 39,
      "outputs": [
        {
          "output_type": "execute_result",
          "data": {
            "text/html": [
              "<div>\n",
              "<style scoped>\n",
              "    .dataframe tbody tr th:only-of-type {\n",
              "        vertical-align: middle;\n",
              "    }\n",
              "\n",
              "    .dataframe tbody tr th {\n",
              "        vertical-align: top;\n",
              "    }\n",
              "\n",
              "    .dataframe thead th {\n",
              "        text-align: right;\n",
              "    }\n",
              "</style>\n",
              "<table border=\"1\" class=\"dataframe\">\n",
              "  <thead>\n",
              "    <tr style=\"text-align: right;\">\n",
              "      <th></th>\n",
              "      <th>Hospital_code</th>\n",
              "      <th>Type of Admission</th>\n",
              "      <th>Department</th>\n",
              "      <th>Severity of Illness</th>\n",
              "      <th>Available Extra Rooms in Hospital</th>\n",
              "      <th>Bed Grade</th>\n",
              "      <th>Visitors with Patient</th>\n",
              "      <th>Age</th>\n",
              "    </tr>\n",
              "  </thead>\n",
              "  <tbody>\n",
              "    <tr>\n",
              "      <th>0</th>\n",
              "      <td>7</td>\n",
              "      <td>0</td>\n",
              "      <td>3</td>\n",
              "      <td>0</td>\n",
              "      <td>3</td>\n",
              "      <td>1</td>\n",
              "      <td>2</td>\n",
              "      <td>5</td>\n",
              "    </tr>\n",
              "    <tr>\n",
              "      <th>1</th>\n",
              "      <td>1</td>\n",
              "      <td>1</td>\n",
              "      <td>3</td>\n",
              "      <td>0</td>\n",
              "      <td>2</td>\n",
              "      <td>1</td>\n",
              "      <td>2</td>\n",
              "      <td>5</td>\n",
              "    </tr>\n",
              "    <tr>\n",
              "      <th>2</th>\n",
              "      <td>9</td>\n",
              "      <td>1</td>\n",
              "      <td>1</td>\n",
              "      <td>0</td>\n",
              "      <td>2</td>\n",
              "      <td>1</td>\n",
              "      <td>2</td>\n",
              "      <td>5</td>\n",
              "    </tr>\n",
              "    <tr>\n",
              "      <th>3</th>\n",
              "      <td>25</td>\n",
              "      <td>1</td>\n",
              "      <td>3</td>\n",
              "      <td>0</td>\n",
              "      <td>2</td>\n",
              "      <td>1</td>\n",
              "      <td>2</td>\n",
              "      <td>5</td>\n",
              "    </tr>\n",
              "    <tr>\n",
              "      <th>4</th>\n",
              "      <td>25</td>\n",
              "      <td>1</td>\n",
              "      <td>3</td>\n",
              "      <td>0</td>\n",
              "      <td>2</td>\n",
              "      <td>1</td>\n",
              "      <td>2</td>\n",
              "      <td>5</td>\n",
              "    </tr>\n",
              "  </tbody>\n",
              "</table>\n",
              "</div>"
            ],
            "text/plain": [
              "   Hospital_code  Type of Admission  ...  Visitors with Patient  Age\n",
              "0              7                  0  ...                      2    5\n",
              "1              1                  1  ...                      2    5\n",
              "2              9                  1  ...                      2    5\n",
              "3             25                  1  ...                      2    5\n",
              "4             25                  1  ...                      2    5\n",
              "\n",
              "[5 rows x 8 columns]"
            ]
          },
          "metadata": {
            "tags": []
          },
          "execution_count": 39
        }
      ]
    },
    {
      "cell_type": "code",
      "metadata": {
        "id": "bhpE_xh8x6E3"
      },
      "source": [
        "y = y.apply(LabelEncoder().fit_transform)"
      ],
      "execution_count": 40,
      "outputs": []
    },
    {
      "cell_type": "code",
      "metadata": {
        "id": "ytgQ6FvGx6E4"
      },
      "source": [
        "# 70% training and 30% test\n",
        "X_train, X_test, y_train, y_test = train_test_split(X, y, test_size=0.3) "
      ],
      "execution_count": 41,
      "outputs": []
    },
    {
      "cell_type": "markdown",
      "metadata": {
        "id": "xRIOq2tEx6E-"
      },
      "source": [
        "Creating a classifier"
      ]
    },
    {
      "cell_type": "code",
      "metadata": {
        "id": "92xRT0Gnx6E4"
      },
      "source": [
        "#Create a Gaussian Classifier\n",
        "clf=RandomForestClassifier(n_estimators=100)\n",
        "\n",
        "#Train the model using the training sets y_pred=clf.predict(X_test)\n",
        "clf.fit(X_train,y_train)\n",
        "\n",
        "y_pred=clf.predict(X_test)"
      ],
      "execution_count": 42,
      "outputs": []
    },
    {
      "cell_type": "markdown",
      "metadata": {
        "id": "hMgOeLB4x6E_"
      },
      "source": [
        "Then we check the accuracy"
      ]
    },
    {
      "cell_type": "code",
      "metadata": {
        "id": "iCYYWgmVx6FA",
        "colab": {
          "base_uri": "https://localhost:8080/"
        },
        "outputId": "3926c021-837f-4766-cb92-d10dd2a8463d"
      },
      "source": [
        "#Import scikit-learn metrics module for accuracy calculation\n",
        "from sklearn import metrics\n",
        "# Model Accuracy, how often is the classifier correct?\n",
        "print(\"Accuracy:\",metrics.accuracy_score(y_test, y_pred))\n"
      ],
      "execution_count": 43,
      "outputs": [
        {
          "output_type": "stream",
          "text": [
            "Accuracy: 0.3364213038562995\n"
          ],
          "name": "stdout"
        }
      ]
    },
    {
      "cell_type": "markdown",
      "metadata": {
        "id": "eN65CO3XC8JJ"
      },
      "source": [
        "Now we test on the test data"
      ]
    },
    {
      "cell_type": "code",
      "metadata": {
        "id": "Bv15fR8sx6FA"
      },
      "source": [
        "Xt = df_test[['Hospital_code', 'Type of Admission', 'Department', 'Severity of Illness', 'Available Extra Rooms in Hospital', 'Bed Grade', 'Visitors with Patient', 'Age']]\n"
      ],
      "execution_count": 47,
      "outputs": []
    },
    {
      "cell_type": "code",
      "metadata": {
        "id": "1l67UYUeE8th"
      },
      "source": [
        "Xt = Xt.apply(LabelEncoder().fit_transform)"
      ],
      "execution_count": 49,
      "outputs": []
    },
    {
      "cell_type": "code",
      "metadata": {
        "id": "qwQQDIztEb-g"
      },
      "source": [
        "yt_pred=clf.predict(Xt)"
      ],
      "execution_count": 50,
      "outputs": []
    }
  ]
}